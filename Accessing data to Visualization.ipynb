{
 "cells": [
  {
   "cell_type": "code",
   "execution_count": 1,
   "metadata": {},
   "outputs": [
    {
     "name": "stdout",
     "output_type": "stream",
     "text": [
      "Defaulting to user installation because normal site-packages is not writeable\n",
      "Requirement already satisfied: jupyter in c:\\programdata\\anaconda3\\lib\\site-packages (1.0.0)\n",
      "Requirement already satisfied: notebook in c:\\programdata\\anaconda3\\lib\\site-packages (6.4.8)Note: you may need to restart the kernel to use updated packages.\n",
      "Requirement already satisfied: nbconvert in c:\\programdata\\anaconda3\\lib\\site-packages (from jupyter) (6.4.4)\n",
      "Requirement already satisfied: ipykernel in c:\\programdata\\anaconda3\\lib\\site-packages (from jupyter) (6.9.1)\n",
      "Requirement already satisfied: ipywidgets in c:\\programdata\\anaconda3\\lib\\site-packages (from jupyter) (7.6.5)\n",
      "Requirement already satisfied: qtconsole in c:\\programdata\\anaconda3\\lib\\site-packages (from jupyter) (5.3.0)\n",
      "\n",
      "Requirement already satisfied: jupyter-console in c:\\programdata\\anaconda3\\lib\\site-packages (from jupyter) (6.4.0)\n",
      "Requirement already satisfied: jinja2 in c:\\programdata\\anaconda3\\lib\\site-packages (from notebook) (2.11.3)\n",
      "Requirement already satisfied: pyzmq>=17 in c:\\programdata\\anaconda3\\lib\\site-packages (from notebook) (22.3.0)\n",
      "Requirement already satisfied: argon2-cffi in c:\\programdata\\anaconda3\\lib\\site-packages (from notebook) (21.3.0)\n",
      "Requirement already satisfied: tornado>=6.1 in c:\\programdata\\anaconda3\\lib\\site-packages (from notebook) (6.1)\n",
      "Requirement already satisfied: nbformat in c:\\programdata\\anaconda3\\lib\\site-packages (from notebook) (5.3.0)\n",
      "Requirement already satisfied: jupyter-client>=5.3.4 in c:\\programdata\\anaconda3\\lib\\site-packages (from notebook) (6.1.12)\n",
      "Requirement already satisfied: ipython-genutils in c:\\programdata\\anaconda3\\lib\\site-packages (from notebook) (0.2.0)\n",
      "Requirement already satisfied: jupyter-core>=4.6.1 in c:\\programdata\\anaconda3\\lib\\site-packages (from notebook) (4.9.2)\n",
      "Requirement already satisfied: nest-asyncio>=1.5 in c:\\programdata\\anaconda3\\lib\\site-packages (from notebook) (1.5.5)\n",
      "Requirement already satisfied: traitlets>=4.2.1 in c:\\programdata\\anaconda3\\lib\\site-packages (from notebook) (5.1.1)\n",
      "Requirement already satisfied: prometheus-client in c:\\programdata\\anaconda3\\lib\\site-packages (from notebook) (0.13.1)\n",
      "Requirement already satisfied: Send2Trash>=1.8.0 in c:\\programdata\\anaconda3\\lib\\site-packages (from notebook) (1.8.0)\n",
      "Requirement already satisfied: terminado>=0.8.3 in c:\\programdata\\anaconda3\\lib\\site-packages (from notebook) (0.13.1)\n",
      "Requirement already satisfied: python-dateutil>=2.1 in c:\\programdata\\anaconda3\\lib\\site-packages (from jupyter-client>=5.3.4->notebook) (2.8.2)\n",
      "Requirement already satisfied: pywin32>=1.0 in c:\\programdata\\anaconda3\\lib\\site-packages (from jupyter-core>=4.6.1->notebook) (302)\n",
      "Requirement already satisfied: six>=1.5 in c:\\programdata\\anaconda3\\lib\\site-packages (from python-dateutil>=2.1->jupyter-client>=5.3.4->notebook) (1.16.0)\n",
      "Requirement already satisfied: pywinpty>=1.1.0 in c:\\programdata\\anaconda3\\lib\\site-packages (from terminado>=0.8.3->notebook) (2.0.2)\n",
      "Requirement already satisfied: argon2-cffi-bindings in c:\\programdata\\anaconda3\\lib\\site-packages (from argon2-cffi->notebook) (21.2.0)\n",
      "Requirement already satisfied: cffi>=1.0.1 in c:\\programdata\\anaconda3\\lib\\site-packages (from argon2-cffi-bindings->argon2-cffi->notebook) (1.15.0)\n",
      "Requirement already satisfied: pycparser in c:\\programdata\\anaconda3\\lib\\site-packages (from cffi>=1.0.1->argon2-cffi-bindings->argon2-cffi->notebook) (2.21)\n",
      "Requirement already satisfied: debugpy<2.0,>=1.0.0 in c:\\programdata\\anaconda3\\lib\\site-packages (from ipykernel->jupyter) (1.5.1)\n",
      "Requirement already satisfied: matplotlib-inline<0.2.0,>=0.1.0 in c:\\programdata\\anaconda3\\lib\\site-packages (from ipykernel->jupyter) (0.1.2)\n",
      "Requirement already satisfied: ipython>=7.23.1 in c:\\programdata\\anaconda3\\lib\\site-packages (from ipykernel->jupyter) (8.2.0)\n",
      "Requirement already satisfied: pickleshare in c:\\programdata\\anaconda3\\lib\\site-packages (from ipython>=7.23.1->ipykernel->jupyter) (0.7.5)\n",
      "Requirement already satisfied: jedi>=0.16 in c:\\programdata\\anaconda3\\lib\\site-packages (from ipython>=7.23.1->ipykernel->jupyter) (0.18.1)\n",
      "Requirement already satisfied: pygments>=2.4.0 in c:\\programdata\\anaconda3\\lib\\site-packages (from ipython>=7.23.1->ipykernel->jupyter) (2.11.2)\n",
      "Requirement already satisfied: prompt-toolkit!=3.0.0,!=3.0.1,<3.1.0,>=2.0.0 in c:\\programdata\\anaconda3\\lib\\site-packages (from ipython>=7.23.1->ipykernel->jupyter) (3.0.20)\n",
      "Requirement already satisfied: colorama in c:\\programdata\\anaconda3\\lib\\site-packages (from ipython>=7.23.1->ipykernel->jupyter) (0.4.4)\n",
      "Requirement already satisfied: setuptools>=18.5 in c:\\programdata\\anaconda3\\lib\\site-packages (from ipython>=7.23.1->ipykernel->jupyter) (61.2.0)\n",
      "Requirement already satisfied: backcall in c:\\programdata\\anaconda3\\lib\\site-packages (from ipython>=7.23.1->ipykernel->jupyter) (0.2.0)\n",
      "Requirement already satisfied: stack-data in c:\\programdata\\anaconda3\\lib\\site-packages (from ipython>=7.23.1->ipykernel->jupyter) (0.2.0)\n",
      "Requirement already satisfied: decorator in c:\\programdata\\anaconda3\\lib\\site-packages (from ipython>=7.23.1->ipykernel->jupyter) (5.1.1)\n",
      "Requirement already satisfied: parso<0.9.0,>=0.8.0 in c:\\programdata\\anaconda3\\lib\\site-packages (from jedi>=0.16->ipython>=7.23.1->ipykernel->jupyter) (0.8.3)\n",
      "Requirement already satisfied: wcwidth in c:\\programdata\\anaconda3\\lib\\site-packages (from prompt-toolkit!=3.0.0,!=3.0.1,<3.1.0,>=2.0.0->ipython>=7.23.1->ipykernel->jupyter) (0.2.5)\n",
      "Requirement already satisfied: widgetsnbextension~=3.5.0 in c:\\programdata\\anaconda3\\lib\\site-packages (from ipywidgets->jupyter) (3.5.2)\n",
      "Requirement already satisfied: jupyterlab-widgets>=1.0.0 in c:\\programdata\\anaconda3\\lib\\site-packages (from ipywidgets->jupyter) (1.0.0)\n",
      "Requirement already satisfied: jsonschema>=2.6 in c:\\programdata\\anaconda3\\lib\\site-packages (from nbformat->notebook) (4.4.0)\n",
      "Requirement already satisfied: fastjsonschema in c:\\programdata\\anaconda3\\lib\\site-packages (from nbformat->notebook) (2.15.1)\n",
      "Requirement already satisfied: pyrsistent!=0.17.0,!=0.17.1,!=0.17.2,>=0.14.0 in c:\\programdata\\anaconda3\\lib\\site-packages (from jsonschema>=2.6->nbformat->notebook) (0.18.0)\n",
      "Requirement already satisfied: attrs>=17.4.0 in c:\\programdata\\anaconda3\\lib\\site-packages (from jsonschema>=2.6->nbformat->notebook) (21.4.0)\n",
      "Requirement already satisfied: MarkupSafe>=0.23 in c:\\programdata\\anaconda3\\lib\\site-packages (from jinja2->notebook) (2.0.1)\n",
      "Requirement already satisfied: entrypoints>=0.2.2 in c:\\programdata\\anaconda3\\lib\\site-packages (from nbconvert->jupyter) (0.4)\n",
      "Requirement already satisfied: defusedxml in c:\\programdata\\anaconda3\\lib\\site-packages (from nbconvert->jupyter) (0.7.1)\n",
      "Requirement already satisfied: beautifulsoup4 in c:\\programdata\\anaconda3\\lib\\site-packages (from nbconvert->jupyter) (4.11.1)\n",
      "Requirement already satisfied: pandocfilters>=1.4.1 in c:\\programdata\\anaconda3\\lib\\site-packages (from nbconvert->jupyter) (1.5.0)\n",
      "Requirement already satisfied: mistune<2,>=0.8.1 in c:\\programdata\\anaconda3\\lib\\site-packages (from nbconvert->jupyter) (0.8.4)\n",
      "Requirement already satisfied: testpath in c:\\programdata\\anaconda3\\lib\\site-packages (from nbconvert->jupyter) (0.5.0)\n",
      "Requirement already satisfied: jupyterlab-pygments in c:\\programdata\\anaconda3\\lib\\site-packages (from nbconvert->jupyter) (0.1.2)\n",
      "Requirement already satisfied: nbclient<0.6.0,>=0.5.0 in c:\\programdata\\anaconda3\\lib\\site-packages (from nbconvert->jupyter) (0.5.13)\n",
      "Requirement already satisfied: bleach in c:\\programdata\\anaconda3\\lib\\site-packages (from nbconvert->jupyter) (4.1.0)\n",
      "Requirement already satisfied: soupsieve>1.2 in c:\\programdata\\anaconda3\\lib\\site-packages (from beautifulsoup4->nbconvert->jupyter) (2.3.1)\n",
      "Requirement already satisfied: packaging in c:\\programdata\\anaconda3\\lib\\site-packages (from bleach->nbconvert->jupyter) (21.3)\n",
      "Requirement already satisfied: webencodings in c:\\programdata\\anaconda3\\lib\\site-packages (from bleach->nbconvert->jupyter) (0.5.1)\n",
      "Requirement already satisfied: pyparsing!=3.0.5,>=2.0.2 in c:\\programdata\\anaconda3\\lib\\site-packages (from packaging->bleach->nbconvert->jupyter) (3.0.4)\n",
      "Requirement already satisfied: qtpy>=2.0.1 in c:\\programdata\\anaconda3\\lib\\site-packages (from qtconsole->jupyter) (2.0.1)\n",
      "Requirement already satisfied: executing in c:\\programdata\\anaconda3\\lib\\site-packages (from stack-data->ipython>=7.23.1->ipykernel->jupyter) (0.8.3)\n",
      "Requirement already satisfied: asttokens in c:\\programdata\\anaconda3\\lib\\site-packages (from stack-data->ipython>=7.23.1->ipykernel->jupyter) (2.0.5)\n",
      "Requirement already satisfied: pure-eval in c:\\programdata\\anaconda3\\lib\\site-packages (from stack-data->ipython>=7.23.1->ipykernel->jupyter) (0.2.2)\n"
     ]
    }
   ],
   "source": [
    "pip install jupyter notebook\n"
   ]
  },
  {
   "cell_type": "code",
   "execution_count": 2,
   "metadata": {},
   "outputs": [
    {
     "name": "stdout",
     "output_type": "stream",
     "text": [
      "Defaulting to user installation because normal site-packages is not writeable\n",
      "Requirement already satisfied: PyMySQL in c:\\users\\arief\\appdata\\roaming\\python\\python39\\site-packages (1.1.0)\n",
      "Defaulting to user installation because normal site-packages is not writeable\n",
      "Requirement already satisfied: ipython-sql in c:\\users\\arief\\appdata\\roaming\\python\\python39\\site-packages (0.5.0)\n",
      "Requirement already satisfied: prettytable in c:\\users\\arief\\appdata\\roaming\\python\\python39\\site-packages (from ipython-sql) (3.9.0)\n",
      "Requirement already satisfied: sqlparse in c:\\users\\arief\\appdata\\roaming\\python\\python39\\site-packages (from ipython-sql) (0.4.4)\n",
      "Requirement already satisfied: sqlalchemy>=2.0 in c:\\users\\arief\\appdata\\roaming\\python\\python39\\site-packages (from ipython-sql) (2.0.25)\n",
      "Requirement already satisfied: ipython-genutils in c:\\programdata\\anaconda3\\lib\\site-packages (from ipython-sql) (0.2.0)\n",
      "Requirement already satisfied: ipython in c:\\programdata\\anaconda3\\lib\\site-packages (from ipython-sql) (8.2.0)\n",
      "Requirement already satisfied: six in c:\\programdata\\anaconda3\\lib\\site-packages (from ipython-sql) (1.16.0)\n",
      "Requirement already satisfied: typing-extensions>=4.6.0 in c:\\users\\arief\\appdata\\roaming\\python\\python39\\site-packages (from sqlalchemy>=2.0->ipython-sql) (4.9.0)\n",
      "Requirement already satisfied: greenlet!=0.4.17 in c:\\programdata\\anaconda3\\lib\\site-packages (from sqlalchemy>=2.0->ipython-sql) (1.1.1)\n",
      "Requirement already satisfied: colorama in c:\\programdata\\anaconda3\\lib\\site-packages (from ipython->ipython-sql) (0.4.4)\n",
      "Requirement already satisfied: pygments>=2.4.0 in c:\\programdata\\anaconda3\\lib\\site-packages (from ipython->ipython-sql) (2.11.2)\n",
      "Requirement already satisfied: jedi>=0.16 in c:\\programdata\\anaconda3\\lib\\site-packages (from ipython->ipython-sql) (0.18.1)\n",
      "Requirement already satisfied: setuptools>=18.5 in c:\\programdata\\anaconda3\\lib\\site-packages (from ipython->ipython-sql) (61.2.0)\n",
      "Requirement already satisfied: pickleshare in c:\\programdata\\anaconda3\\lib\\site-packages (from ipython->ipython-sql) (0.7.5)\n",
      "Requirement already satisfied: backcall in c:\\programdata\\anaconda3\\lib\\site-packages (from ipython->ipython-sql) (0.2.0)\n",
      "Requirement already satisfied: decorator in c:\\programdata\\anaconda3\\lib\\site-packages (from ipython->ipython-sql) (5.1.1)\n",
      "Requirement already satisfied: traitlets>=5 in c:\\programdata\\anaconda3\\lib\\site-packages (from ipython->ipython-sql) (5.1.1)\n",
      "Requirement already satisfied: stack-data in c:\\programdata\\anaconda3\\lib\\site-packages (from ipython->ipython-sql) (0.2.0)\n",
      "Requirement already satisfied: matplotlib-inline in c:\\programdata\\anaconda3\\lib\\site-packages (from ipython->ipython-sql) (0.1.2)\n",
      "Requirement already satisfied: prompt-toolkit!=3.0.0,!=3.0.1,<3.1.0,>=2.0.0 in c:\\programdata\\anaconda3\\lib\\site-packages (from ipython->ipython-sql) (3.0.20)\n",
      "Requirement already satisfied: parso<0.9.0,>=0.8.0 in c:\\programdata\\anaconda3\\lib\\site-packages (from jedi>=0.16->ipython->ipython-sql) (0.8.3)\n",
      "Requirement already satisfied: wcwidth in c:\\programdata\\anaconda3\\lib\\site-packages (from prompt-toolkit!=3.0.0,!=3.0.1,<3.1.0,>=2.0.0->ipython->ipython-sql) (0.2.5)\n",
      "Requirement already satisfied: executing in c:\\programdata\\anaconda3\\lib\\site-packages (from stack-data->ipython->ipython-sql) (0.8.3)\n",
      "Requirement already satisfied: asttokens in c:\\programdata\\anaconda3\\lib\\site-packages (from stack-data->ipython->ipython-sql) (2.0.5)\n",
      "Requirement already satisfied: pure-eval in c:\\programdata\\anaconda3\\lib\\site-packages (from stack-data->ipython->ipython-sql) (0.2.2)\n",
      "Defaulting to user installation because normal site-packages is not writeable\n",
      "Requirement already satisfied: mysqlclient in c:\\users\\arief\\appdata\\roaming\\python\\python39\\site-packages (2.2.1)\n"
     ]
    }
   ],
   "source": [
    "\n",
    "! pip install PyMySQL\n",
    "! pip install ipython-sql\n",
    "! pip install mysqlclient"
   ]
  },
  {
   "cell_type": "code",
   "execution_count": 3,
   "metadata": {},
   "outputs": [],
   "source": [
    "import pandas as pd\n",
    "import matplotlib.pyplot as plt\n",
    "%matplotlib inline"
   ]
  },
  {
   "cell_type": "code",
   "execution_count": 4,
   "metadata": {},
   "outputs": [],
   "source": [
    "import pymysql"
   ]
  },
  {
   "cell_type": "code",
   "execution_count": 5,
   "metadata": {},
   "outputs": [
    {
     "name": "stdout",
     "output_type": "stream",
     "text": [
      "connection successful\n"
     ]
    }
   ],
   "source": [
    "db_name = \"csv_db 13\"\n",
    "db_host = \"localhost\"\n",
    "db_username = \"root\"\n",
    "db_password = \"\"\n",
    "\n",
    "try:\n",
    "    conn = pymysql.connect(host = db_host,\n",
    "                           port = int(3306),\n",
    "                           user = \"root\",\n",
    "                           password = db_password,\n",
    "                           db = db_name)\n",
    "except e:\n",
    "    print (e)\n",
    "if conn:\n",
    "    print (\"connection successful\")\n",
    "else:\n",
    "        print (\"error\")"
   ]
  },
  {
   "cell_type": "code",
   "execution_count": 6,
   "metadata": {},
   "outputs": [
    {
     "name": "stdout",
     "output_type": "stream",
     "text": [
      "<class 'pandas.core.frame.DataFrame'>\n",
      "RangeIndex: 44 entries, 0 to 43\n",
      "Data columns (total 6 columns):\n",
      " #   Column  Non-Null Count  Dtype \n",
      "---  ------  --------------  ----- \n",
      " 0   COL 1   44 non-null     object\n",
      " 1   COL 2   44 non-null     object\n",
      " 2   COL 3   44 non-null     object\n",
      " 3   COL 4   44 non-null     object\n",
      " 4   COL 5   44 non-null     object\n",
      " 5   COL 6   44 non-null     object\n",
      "dtypes: object(6)\n",
      "memory usage: 2.2+ KB\n"
     ]
    },
    {
     "name": "stderr",
     "output_type": "stream",
     "text": [
      "c:\\ProgramData\\Anaconda3\\lib\\site-packages\\pandas\\io\\sql.py:761: UserWarning: pandas only support SQLAlchemy connectable(engine/connection) ordatabase string URI or sqlite3 DBAPI2 connectionother DBAPI2 objects are not tested, please consider using SQLAlchemy\n",
      "  warnings.warn(\n"
     ]
    }
   ],
   "source": [
    "df = pd.read_sql_query(\"select * from sales\", conn)\n",
    "df.shape\n",
    "df.info()\n"
   ]
  },
  {
   "cell_type": "markdown",
   "metadata": {},
   "source": [
    "As you can see above and below, the same data has six columns, and here are several steps that we will take:\n",
    "1. All of the column names are inapropriate; we must change these columns.\n",
    "2. We have to change some data types, for example, Object to Data-Time and Object to Numeric.\n",
    "3. Remove the useless column.\n",
    "4. Make a visualization."
   ]
  },
  {
   "cell_type": "code",
   "execution_count": 7,
   "metadata": {},
   "outputs": [
    {
     "data": {
      "text/html": [
       "<div>\n",
       "<style scoped>\n",
       "    .dataframe tbody tr th:only-of-type {\n",
       "        vertical-align: middle;\n",
       "    }\n",
       "\n",
       "    .dataframe tbody tr th {\n",
       "        vertical-align: top;\n",
       "    }\n",
       "\n",
       "    .dataframe thead th {\n",
       "        text-align: right;\n",
       "    }\n",
       "</style>\n",
       "<table border=\"1\" class=\"dataframe\">\n",
       "  <thead>\n",
       "    <tr style=\"text-align: right;\">\n",
       "      <th></th>\n",
       "      <th>COL 1</th>\n",
       "      <th>COL 2</th>\n",
       "      <th>COL 3</th>\n",
       "      <th>COL 4</th>\n",
       "      <th>COL 5</th>\n",
       "      <th>COL 6</th>\n",
       "    </tr>\n",
       "  </thead>\n",
       "  <tbody>\n",
       "    <tr>\n",
       "      <th>0</th>\n",
       "      <td>Date&amp;Time</td>\n",
       "      <td>Cust_ID</td>\n",
       "      <td>product</td>\n",
       "      <td>country</td>\n",
       "      <td>sales (items)</td>\n",
       "      <td>sales (?)</td>\n",
       "    </tr>\n",
       "    <tr>\n",
       "      <th>1</th>\n",
       "      <td>2020-10-07</td>\n",
       "      <td>Cust_5</td>\n",
       "      <td>prod_3</td>\n",
       "      <td>China</td>\n",
       "      <td>3</td>\n",
       "      <td>229.9089822771919</td>\n",
       "    </tr>\n",
       "    <tr>\n",
       "      <th>2</th>\n",
       "      <td>2020-10-08</td>\n",
       "      <td>Cust_2</td>\n",
       "      <td>prod_3</td>\n",
       "      <td>China</td>\n",
       "      <td>7</td>\n",
       "      <td>568.3181644162846</td>\n",
       "    </tr>\n",
       "    <tr>\n",
       "      <th>3</th>\n",
       "      <td>2020-10-09</td>\n",
       "      <td>Cust_3</td>\n",
       "      <td>prod_3</td>\n",
       "      <td>USA</td>\n",
       "      <td>12</td>\n",
       "      <td>988.8381376016109</td>\n",
       "    </tr>\n",
       "    <tr>\n",
       "      <th>4</th>\n",
       "      <td>2020-10-10</td>\n",
       "      <td>Cust_7</td>\n",
       "      <td>prod_3</td>\n",
       "      <td>Brazil</td>\n",
       "      <td>12</td>\n",
       "      <td>903.4925748649143</td>\n",
       "    </tr>\n",
       "  </tbody>\n",
       "</table>\n",
       "</div>"
      ],
      "text/plain": [
       "        COL 1    COL 2    COL 3    COL 4          COL 5              COL 6\n",
       "0   Date&Time  Cust_ID  product  country  sales (items)          sales (?)\n",
       "1  2020-10-07   Cust_5   prod_3    China              3  229.9089822771919\n",
       "2  2020-10-08   Cust_2   prod_3    China              7  568.3181644162846\n",
       "3  2020-10-09   Cust_3   prod_3      USA             12  988.8381376016109\n",
       "4  2020-10-10   Cust_7   prod_3   Brazil             12  903.4925748649143"
      ]
     },
     "execution_count": 7,
     "metadata": {},
     "output_type": "execute_result"
    }
   ],
   "source": [
    "df.head()"
   ]
  },
  {
   "cell_type": "markdown",
   "metadata": {},
   "source": [
    "The Statical overview"
   ]
  },
  {
   "cell_type": "code",
   "execution_count": 8,
   "metadata": {},
   "outputs": [
    {
     "data": {
      "text/html": [
       "<div>\n",
       "<style scoped>\n",
       "    .dataframe tbody tr th:only-of-type {\n",
       "        vertical-align: middle;\n",
       "    }\n",
       "\n",
       "    .dataframe tbody tr th {\n",
       "        vertical-align: top;\n",
       "    }\n",
       "\n",
       "    .dataframe thead th {\n",
       "        text-align: right;\n",
       "    }\n",
       "</style>\n",
       "<table border=\"1\" class=\"dataframe\">\n",
       "  <thead>\n",
       "    <tr style=\"text-align: right;\">\n",
       "      <th></th>\n",
       "      <th>COL 1</th>\n",
       "      <th>COL 2</th>\n",
       "      <th>COL 3</th>\n",
       "      <th>COL 4</th>\n",
       "      <th>COL 5</th>\n",
       "      <th>COL 6</th>\n",
       "    </tr>\n",
       "  </thead>\n",
       "  <tbody>\n",
       "    <tr>\n",
       "      <th>count</th>\n",
       "      <td>44</td>\n",
       "      <td>44</td>\n",
       "      <td>44</td>\n",
       "      <td>44</td>\n",
       "      <td>44</td>\n",
       "      <td>44</td>\n",
       "    </tr>\n",
       "    <tr>\n",
       "      <th>unique</th>\n",
       "      <td>44</td>\n",
       "      <td>9</td>\n",
       "      <td>4</td>\n",
       "      <td>5</td>\n",
       "      <td>12</td>\n",
       "      <td>44</td>\n",
       "    </tr>\n",
       "    <tr>\n",
       "      <th>top</th>\n",
       "      <td>Date&amp;Time</td>\n",
       "      <td>Cust_1</td>\n",
       "      <td>prod_2</td>\n",
       "      <td>USA</td>\n",
       "      <td>6</td>\n",
       "      <td>sales (?)</td>\n",
       "    </tr>\n",
       "    <tr>\n",
       "      <th>freq</th>\n",
       "      <td>1</td>\n",
       "      <td>9</td>\n",
       "      <td>15</td>\n",
       "      <td>15</td>\n",
       "      <td>8</td>\n",
       "      <td>1</td>\n",
       "    </tr>\n",
       "  </tbody>\n",
       "</table>\n",
       "</div>"
      ],
      "text/plain": [
       "            COL 1   COL 2   COL 3 COL 4 COL 5      COL 6\n",
       "count          44      44      44    44    44         44\n",
       "unique         44       9       4     5    12         44\n",
       "top     Date&Time  Cust_1  prod_2   USA     6  sales (?)\n",
       "freq            1       9      15    15     8          1"
      ]
     },
     "execution_count": 8,
     "metadata": {},
     "output_type": "execute_result"
    }
   ],
   "source": [
    "df.describe()"
   ]
  },
  {
   "cell_type": "code",
   "execution_count": 9,
   "metadata": {},
   "outputs": [
    {
     "data": {
      "text/html": [
       "<div>\n",
       "<style scoped>\n",
       "    .dataframe tbody tr th:only-of-type {\n",
       "        vertical-align: middle;\n",
       "    }\n",
       "\n",
       "    .dataframe tbody tr th {\n",
       "        vertical-align: top;\n",
       "    }\n",
       "\n",
       "    .dataframe thead th {\n",
       "        text-align: right;\n",
       "    }\n",
       "</style>\n",
       "<table border=\"1\" class=\"dataframe\">\n",
       "  <thead>\n",
       "    <tr style=\"text-align: right;\">\n",
       "      <th></th>\n",
       "      <th>COL 1</th>\n",
       "      <th>COL 2</th>\n",
       "      <th>COL 3</th>\n",
       "      <th>COL 4</th>\n",
       "      <th>COL 5</th>\n",
       "      <th>COL 6</th>\n",
       "    </tr>\n",
       "  </thead>\n",
       "  <tbody>\n",
       "    <tr>\n",
       "      <th>0</th>\n",
       "      <td>Date&amp;Time</td>\n",
       "      <td>Cust_ID</td>\n",
       "      <td>product</td>\n",
       "      <td>country</td>\n",
       "      <td>sales (items)</td>\n",
       "      <td>sales (?)</td>\n",
       "    </tr>\n",
       "    <tr>\n",
       "      <th>1</th>\n",
       "      <td>2020-10-07</td>\n",
       "      <td>Cust_5</td>\n",
       "      <td>prod_3</td>\n",
       "      <td>China</td>\n",
       "      <td>3</td>\n",
       "      <td>229.9089822771919</td>\n",
       "    </tr>\n",
       "    <tr>\n",
       "      <th>2</th>\n",
       "      <td>2020-10-08</td>\n",
       "      <td>Cust_2</td>\n",
       "      <td>prod_3</td>\n",
       "      <td>China</td>\n",
       "      <td>7</td>\n",
       "      <td>568.3181644162846</td>\n",
       "    </tr>\n",
       "    <tr>\n",
       "      <th>3</th>\n",
       "      <td>2020-10-09</td>\n",
       "      <td>Cust_3</td>\n",
       "      <td>prod_3</td>\n",
       "      <td>USA</td>\n",
       "      <td>12</td>\n",
       "      <td>988.8381376016109</td>\n",
       "    </tr>\n",
       "    <tr>\n",
       "      <th>4</th>\n",
       "      <td>2020-10-10</td>\n",
       "      <td>Cust_7</td>\n",
       "      <td>prod_3</td>\n",
       "      <td>Brazil</td>\n",
       "      <td>12</td>\n",
       "      <td>903.4925748649143</td>\n",
       "    </tr>\n",
       "    <tr>\n",
       "      <th>5</th>\n",
       "      <td>2020-10-11</td>\n",
       "      <td>Cust_3</td>\n",
       "      <td>prod_1</td>\n",
       "      <td>USA</td>\n",
       "      <td>7</td>\n",
       "      <td>512.6828911855611</td>\n",
       "    </tr>\n",
       "    <tr>\n",
       "      <th>6</th>\n",
       "      <td>2020-10-12</td>\n",
       "      <td>Cust_6</td>\n",
       "      <td>prod_1</td>\n",
       "      <td>USA</td>\n",
       "      <td>8</td>\n",
       "      <td>534.0792696173543</td>\n",
       "    </tr>\n",
       "    <tr>\n",
       "      <th>7</th>\n",
       "      <td>2020-10-13</td>\n",
       "      <td>Cust_3</td>\n",
       "      <td>prod_3</td>\n",
       "      <td>USA</td>\n",
       "      <td>13</td>\n",
       "      <td>844.3142328212228</td>\n",
       "    </tr>\n",
       "    <tr>\n",
       "      <th>8</th>\n",
       "      <td>2020-10-14</td>\n",
       "      <td>Cust_1</td>\n",
       "      <td>prod_2</td>\n",
       "      <td>Germany</td>\n",
       "      <td>15</td>\n",
       "      <td>784.5362324213743</td>\n",
       "    </tr>\n",
       "    <tr>\n",
       "      <th>9</th>\n",
       "      <td>2020-10-15</td>\n",
       "      <td>Cust_1</td>\n",
       "      <td>prod_2</td>\n",
       "      <td>Germany</td>\n",
       "      <td>11</td>\n",
       "      <td>485.7288195472678</td>\n",
       "    </tr>\n",
       "    <tr>\n",
       "      <th>10</th>\n",
       "      <td>2020-10-16</td>\n",
       "      <td>Cust_1</td>\n",
       "      <td>prod_1</td>\n",
       "      <td>Germany</td>\n",
       "      <td>6</td>\n",
       "      <td>289.03465632256626</td>\n",
       "    </tr>\n",
       "    <tr>\n",
       "      <th>11</th>\n",
       "      <td>2020-10-17</td>\n",
       "      <td>Cust_2</td>\n",
       "      <td>prod_1</td>\n",
       "      <td>China</td>\n",
       "      <td>6</td>\n",
       "      <td>447.96120700560834</td>\n",
       "    </tr>\n",
       "    <tr>\n",
       "      <th>12</th>\n",
       "      <td>2020-10-18</td>\n",
       "      <td>Cust_3</td>\n",
       "      <td>prod_3</td>\n",
       "      <td>USA</td>\n",
       "      <td>9</td>\n",
       "      <td>667.5522076942311</td>\n",
       "    </tr>\n",
       "    <tr>\n",
       "      <th>13</th>\n",
       "      <td>2020-10-19</td>\n",
       "      <td>Cust_1</td>\n",
       "      <td>prod_1</td>\n",
       "      <td>Germany</td>\n",
       "      <td>7</td>\n",
       "      <td>480.745741215611</td>\n",
       "    </tr>\n",
       "    <tr>\n",
       "      <th>14</th>\n",
       "      <td>2020-10-20</td>\n",
       "      <td>Cust_4</td>\n",
       "      <td>prod_3</td>\n",
       "      <td>Germany</td>\n",
       "      <td>8</td>\n",
       "      <td>376.4989747682864</td>\n",
       "    </tr>\n",
       "    <tr>\n",
       "      <th>15</th>\n",
       "      <td>2020-10-21</td>\n",
       "      <td>Cust_1</td>\n",
       "      <td>prod_2</td>\n",
       "      <td>Germany</td>\n",
       "      <td>11</td>\n",
       "      <td>456.6765498659165</td>\n",
       "    </tr>\n",
       "    <tr>\n",
       "      <th>16</th>\n",
       "      <td>2020-10-22</td>\n",
       "      <td>Cust_6</td>\n",
       "      <td>prod_2</td>\n",
       "      <td>USA</td>\n",
       "      <td>9</td>\n",
       "      <td>352.45563889143483</td>\n",
       "    </tr>\n",
       "    <tr>\n",
       "      <th>17</th>\n",
       "      <td>2020-10-23</td>\n",
       "      <td>Cust_6</td>\n",
       "      <td>prod_2</td>\n",
       "      <td>USA</td>\n",
       "      <td>6</td>\n",
       "      <td>242.33918553721128</td>\n",
       "    </tr>\n",
       "    <tr>\n",
       "      <th>18</th>\n",
       "      <td>2020-10-24</td>\n",
       "      <td>Cust_6</td>\n",
       "      <td>prod_2</td>\n",
       "      <td>USA</td>\n",
       "      <td>6</td>\n",
       "      <td>222.56362094411423</td>\n",
       "    </tr>\n",
       "    <tr>\n",
       "      <th>19</th>\n",
       "      <td>2020-10-25</td>\n",
       "      <td>Cust_7</td>\n",
       "      <td>prod_2</td>\n",
       "      <td>Brazil</td>\n",
       "      <td>5</td>\n",
       "      <td>196.56869051551124</td>\n",
       "    </tr>\n",
       "    <tr>\n",
       "      <th>20</th>\n",
       "      <td>2020-10-26</td>\n",
       "      <td>Cust_5</td>\n",
       "      <td>prod_3</td>\n",
       "      <td>China</td>\n",
       "      <td>3</td>\n",
       "      <td>147.32651160871885</td>\n",
       "    </tr>\n",
       "    <tr>\n",
       "      <th>21</th>\n",
       "      <td>2020-10-27</td>\n",
       "      <td>Cust_9</td>\n",
       "      <td>prod_3</td>\n",
       "      <td>Germany</td>\n",
       "      <td>2</td>\n",
       "      <td>127.4664274254398</td>\n",
       "    </tr>\n",
       "    <tr>\n",
       "      <th>22</th>\n",
       "      <td>2020-10-28</td>\n",
       "      <td>Cust_3</td>\n",
       "      <td>prod_3</td>\n",
       "      <td>USA</td>\n",
       "      <td>3</td>\n",
       "      <td>146.2766474565324</td>\n",
       "    </tr>\n",
       "    <tr>\n",
       "      <th>23</th>\n",
       "      <td>2020-10-29</td>\n",
       "      <td>Cust_4</td>\n",
       "      <td>prod_2</td>\n",
       "      <td>Germany</td>\n",
       "      <td>5</td>\n",
       "      <td>215.17701259628723</td>\n",
       "    </tr>\n",
       "    <tr>\n",
       "      <th>24</th>\n",
       "      <td>2020-10-30</td>\n",
       "      <td>Cust_3</td>\n",
       "      <td>prod_2</td>\n",
       "      <td>USA</td>\n",
       "      <td>6</td>\n",
       "      <td>262.8550764390219</td>\n",
       "    </tr>\n",
       "    <tr>\n",
       "      <th>25</th>\n",
       "      <td>2020-10-31</td>\n",
       "      <td>Cust_2</td>\n",
       "      <td>prod_3</td>\n",
       "      <td>China</td>\n",
       "      <td>5</td>\n",
       "      <td>228.80998435678163</td>\n",
       "    </tr>\n",
       "    <tr>\n",
       "      <th>26</th>\n",
       "      <td>2020-11-01</td>\n",
       "      <td>Cust_6</td>\n",
       "      <td>prod_1</td>\n",
       "      <td>USA</td>\n",
       "      <td>5</td>\n",
       "      <td>209.00554092001883</td>\n",
       "    </tr>\n",
       "    <tr>\n",
       "      <th>27</th>\n",
       "      <td>2020-11-02</td>\n",
       "      <td>Cust_1</td>\n",
       "      <td>prod_2</td>\n",
       "      <td>Germany</td>\n",
       "      <td>7</td>\n",
       "      <td>259.70724991808834</td>\n",
       "    </tr>\n",
       "    <tr>\n",
       "      <th>28</th>\n",
       "      <td>2020-11-03</td>\n",
       "      <td>Cust_5</td>\n",
       "      <td>prod_1</td>\n",
       "      <td>China</td>\n",
       "      <td>9</td>\n",
       "      <td>335.81298724768965</td>\n",
       "    </tr>\n",
       "    <tr>\n",
       "      <th>29</th>\n",
       "      <td>2020-11-04</td>\n",
       "      <td>Cust_3</td>\n",
       "      <td>prod_2</td>\n",
       "      <td>USA</td>\n",
       "      <td>9</td>\n",
       "      <td>353.61160294522557</td>\n",
       "    </tr>\n",
       "    <tr>\n",
       "      <th>30</th>\n",
       "      <td>2020-11-05</td>\n",
       "      <td>Cust_7</td>\n",
       "      <td>prod_1</td>\n",
       "      <td>Brazil</td>\n",
       "      <td>8</td>\n",
       "      <td>303.1143810714806</td>\n",
       "    </tr>\n",
       "    <tr>\n",
       "      <th>31</th>\n",
       "      <td>2020-11-06</td>\n",
       "      <td>Cust_2</td>\n",
       "      <td>prod_1</td>\n",
       "      <td>China</td>\n",
       "      <td>7</td>\n",
       "      <td>267.36524277597056</td>\n",
       "    </tr>\n",
       "    <tr>\n",
       "      <th>32</th>\n",
       "      <td>2020-11-07</td>\n",
       "      <td>Cust_1</td>\n",
       "      <td>prod_2</td>\n",
       "      <td>Germany</td>\n",
       "      <td>5</td>\n",
       "      <td>218.416401515161</td>\n",
       "    </tr>\n",
       "    <tr>\n",
       "      <th>33</th>\n",
       "      <td>2020-11-08</td>\n",
       "      <td>Cust_1</td>\n",
       "      <td>prod_3</td>\n",
       "      <td>Germany</td>\n",
       "      <td>3</td>\n",
       "      <td>153.23880135480263</td>\n",
       "    </tr>\n",
       "    <tr>\n",
       "      <th>34</th>\n",
       "      <td>2020-11-09</td>\n",
       "      <td>Cust_5</td>\n",
       "      <td>prod_1</td>\n",
       "      <td>China</td>\n",
       "      <td>3</td>\n",
       "      <td>127.94065258305532</td>\n",
       "    </tr>\n",
       "    <tr>\n",
       "      <th>35</th>\n",
       "      <td>2020-11-10</td>\n",
       "      <td>Cust_6</td>\n",
       "      <td>prod_1</td>\n",
       "      <td>USA</td>\n",
       "      <td>6</td>\n",
       "      <td>235.389243064478</td>\n",
       "    </tr>\n",
       "    <tr>\n",
       "      <th>36</th>\n",
       "      <td>2020-11-11</td>\n",
       "      <td>Cust_6</td>\n",
       "      <td>prod_2</td>\n",
       "      <td>USA</td>\n",
       "      <td>9</td>\n",
       "      <td>437.8401684696941</td>\n",
       "    </tr>\n",
       "    <tr>\n",
       "      <th>37</th>\n",
       "      <td>2020-11-12</td>\n",
       "      <td>Cust_2</td>\n",
       "      <td>prod_3</td>\n",
       "      <td>China</td>\n",
       "      <td>9</td>\n",
       "      <td>495.66179621585076</td>\n",
       "    </tr>\n",
       "    <tr>\n",
       "      <th>38</th>\n",
       "      <td>2020-11-13</td>\n",
       "      <td>Cust_3</td>\n",
       "      <td>prod_1</td>\n",
       "      <td>USA</td>\n",
       "      <td>7</td>\n",
       "      <td>374.5398628167425</td>\n",
       "    </tr>\n",
       "    <tr>\n",
       "      <th>39</th>\n",
       "      <td>2020-11-14</td>\n",
       "      <td>Cust_1</td>\n",
       "      <td>prod_2</td>\n",
       "      <td>Germany</td>\n",
       "      <td>5</td>\n",
       "      <td>294.9164319527281</td>\n",
       "    </tr>\n",
       "    <tr>\n",
       "      <th>40</th>\n",
       "      <td>2020-11-15</td>\n",
       "      <td>Cust_7</td>\n",
       "      <td>prod_3</td>\n",
       "      <td>Brazil</td>\n",
       "      <td>5</td>\n",
       "      <td>315.3549525573271</td>\n",
       "    </tr>\n",
       "    <tr>\n",
       "      <th>41</th>\n",
       "      <td>2020-11-16</td>\n",
       "      <td>Cust_4</td>\n",
       "      <td>prod_2</td>\n",
       "      <td>Germany</td>\n",
       "      <td>5</td>\n",
       "      <td>261.95077780019403</td>\n",
       "    </tr>\n",
       "    <tr>\n",
       "      <th>42</th>\n",
       "      <td>2020-11-17</td>\n",
       "      <td>Cust_4</td>\n",
       "      <td>prod_1</td>\n",
       "      <td>Germany</td>\n",
       "      <td>6</td>\n",
       "      <td>215.0829837266131</td>\n",
       "    </tr>\n",
       "    <tr>\n",
       "      <th>43</th>\n",
       "      <td>2020-11-18</td>\n",
       "      <td>Cust_4</td>\n",
       "      <td>prod_1</td>\n",
       "      <td>Germany</td>\n",
       "      <td>6</td>\n",
       "      <td>197.6663358548984</td>\n",
       "    </tr>\n",
       "  </tbody>\n",
       "</table>\n",
       "</div>"
      ],
      "text/plain": [
       "         COL 1    COL 2    COL 3    COL 4          COL 5               COL 6\n",
       "0    Date&Time  Cust_ID  product  country  sales (items)           sales (?)\n",
       "1   2020-10-07   Cust_5   prod_3    China              3   229.9089822771919\n",
       "2   2020-10-08   Cust_2   prod_3    China              7   568.3181644162846\n",
       "3   2020-10-09   Cust_3   prod_3      USA             12   988.8381376016109\n",
       "4   2020-10-10   Cust_7   prod_3   Brazil             12   903.4925748649143\n",
       "5   2020-10-11   Cust_3   prod_1      USA              7   512.6828911855611\n",
       "6   2020-10-12   Cust_6   prod_1      USA              8   534.0792696173543\n",
       "7   2020-10-13   Cust_3   prod_3      USA             13   844.3142328212228\n",
       "8   2020-10-14   Cust_1   prod_2  Germany             15   784.5362324213743\n",
       "9   2020-10-15   Cust_1   prod_2  Germany             11   485.7288195472678\n",
       "10  2020-10-16   Cust_1   prod_1  Germany              6  289.03465632256626\n",
       "11  2020-10-17   Cust_2   prod_1    China              6  447.96120700560834\n",
       "12  2020-10-18   Cust_3   prod_3      USA              9   667.5522076942311\n",
       "13  2020-10-19   Cust_1   prod_1  Germany              7    480.745741215611\n",
       "14  2020-10-20   Cust_4   prod_3  Germany              8   376.4989747682864\n",
       "15  2020-10-21   Cust_1   prod_2  Germany             11   456.6765498659165\n",
       "16  2020-10-22   Cust_6   prod_2      USA              9  352.45563889143483\n",
       "17  2020-10-23   Cust_6   prod_2      USA              6  242.33918553721128\n",
       "18  2020-10-24   Cust_6   prod_2      USA              6  222.56362094411423\n",
       "19  2020-10-25   Cust_7   prod_2   Brazil              5  196.56869051551124\n",
       "20  2020-10-26   Cust_5   prod_3    China              3  147.32651160871885\n",
       "21  2020-10-27   Cust_9   prod_3  Germany              2   127.4664274254398\n",
       "22  2020-10-28   Cust_3   prod_3      USA              3   146.2766474565324\n",
       "23  2020-10-29   Cust_4   prod_2  Germany              5  215.17701259628723\n",
       "24  2020-10-30   Cust_3   prod_2      USA              6   262.8550764390219\n",
       "25  2020-10-31   Cust_2   prod_3    China              5  228.80998435678163\n",
       "26  2020-11-01   Cust_6   prod_1      USA              5  209.00554092001883\n",
       "27  2020-11-02   Cust_1   prod_2  Germany              7  259.70724991808834\n",
       "28  2020-11-03   Cust_5   prod_1    China              9  335.81298724768965\n",
       "29  2020-11-04   Cust_3   prod_2      USA              9  353.61160294522557\n",
       "30  2020-11-05   Cust_7   prod_1   Brazil              8   303.1143810714806\n",
       "31  2020-11-06   Cust_2   prod_1    China              7  267.36524277597056\n",
       "32  2020-11-07   Cust_1   prod_2  Germany              5    218.416401515161\n",
       "33  2020-11-08   Cust_1   prod_3  Germany              3  153.23880135480263\n",
       "34  2020-11-09   Cust_5   prod_1    China              3  127.94065258305532\n",
       "35  2020-11-10   Cust_6   prod_1      USA              6    235.389243064478\n",
       "36  2020-11-11   Cust_6   prod_2      USA              9   437.8401684696941\n",
       "37  2020-11-12   Cust_2   prod_3    China              9  495.66179621585076\n",
       "38  2020-11-13   Cust_3   prod_1      USA              7   374.5398628167425\n",
       "39  2020-11-14   Cust_1   prod_2  Germany              5   294.9164319527281\n",
       "40  2020-11-15   Cust_7   prod_3   Brazil              5   315.3549525573271\n",
       "41  2020-11-16   Cust_4   prod_2  Germany              5  261.95077780019403\n",
       "42  2020-11-17   Cust_4   prod_1  Germany              6   215.0829837266131\n",
       "43  2020-11-18   Cust_4   prod_1  Germany              6   197.6663358548984"
      ]
     },
     "metadata": {},
     "output_type": "display_data"
    },
    {
     "data": {
      "text/html": [
       "<div>\n",
       "<style scoped>\n",
       "    .dataframe tbody tr th:only-of-type {\n",
       "        vertical-align: middle;\n",
       "    }\n",
       "\n",
       "    .dataframe tbody tr th {\n",
       "        vertical-align: top;\n",
       "    }\n",
       "\n",
       "    .dataframe thead th {\n",
       "        text-align: right;\n",
       "    }\n",
       "</style>\n",
       "<table border=\"1\" class=\"dataframe\">\n",
       "  <thead>\n",
       "    <tr style=\"text-align: right;\">\n",
       "      <th></th>\n",
       "      <th>COL 1</th>\n",
       "      <th>COL 2</th>\n",
       "      <th>COL 3</th>\n",
       "      <th>COL 4</th>\n",
       "      <th>COL 5</th>\n",
       "      <th>COL 6</th>\n",
       "    </tr>\n",
       "  </thead>\n",
       "  <tbody>\n",
       "    <tr>\n",
       "      <th>0</th>\n",
       "      <td>False</td>\n",
       "      <td>False</td>\n",
       "      <td>False</td>\n",
       "      <td>False</td>\n",
       "      <td>False</td>\n",
       "      <td>False</td>\n",
       "    </tr>\n",
       "    <tr>\n",
       "      <th>1</th>\n",
       "      <td>False</td>\n",
       "      <td>False</td>\n",
       "      <td>False</td>\n",
       "      <td>False</td>\n",
       "      <td>False</td>\n",
       "      <td>False</td>\n",
       "    </tr>\n",
       "    <tr>\n",
       "      <th>2</th>\n",
       "      <td>False</td>\n",
       "      <td>False</td>\n",
       "      <td>False</td>\n",
       "      <td>False</td>\n",
       "      <td>False</td>\n",
       "      <td>False</td>\n",
       "    </tr>\n",
       "    <tr>\n",
       "      <th>3</th>\n",
       "      <td>False</td>\n",
       "      <td>False</td>\n",
       "      <td>False</td>\n",
       "      <td>False</td>\n",
       "      <td>False</td>\n",
       "      <td>False</td>\n",
       "    </tr>\n",
       "    <tr>\n",
       "      <th>4</th>\n",
       "      <td>False</td>\n",
       "      <td>False</td>\n",
       "      <td>False</td>\n",
       "      <td>False</td>\n",
       "      <td>False</td>\n",
       "      <td>False</td>\n",
       "    </tr>\n",
       "    <tr>\n",
       "      <th>5</th>\n",
       "      <td>False</td>\n",
       "      <td>False</td>\n",
       "      <td>False</td>\n",
       "      <td>False</td>\n",
       "      <td>False</td>\n",
       "      <td>False</td>\n",
       "    </tr>\n",
       "    <tr>\n",
       "      <th>6</th>\n",
       "      <td>False</td>\n",
       "      <td>False</td>\n",
       "      <td>False</td>\n",
       "      <td>False</td>\n",
       "      <td>False</td>\n",
       "      <td>False</td>\n",
       "    </tr>\n",
       "    <tr>\n",
       "      <th>7</th>\n",
       "      <td>False</td>\n",
       "      <td>False</td>\n",
       "      <td>False</td>\n",
       "      <td>False</td>\n",
       "      <td>False</td>\n",
       "      <td>False</td>\n",
       "    </tr>\n",
       "    <tr>\n",
       "      <th>8</th>\n",
       "      <td>False</td>\n",
       "      <td>False</td>\n",
       "      <td>False</td>\n",
       "      <td>False</td>\n",
       "      <td>False</td>\n",
       "      <td>False</td>\n",
       "    </tr>\n",
       "    <tr>\n",
       "      <th>9</th>\n",
       "      <td>False</td>\n",
       "      <td>False</td>\n",
       "      <td>False</td>\n",
       "      <td>False</td>\n",
       "      <td>False</td>\n",
       "      <td>False</td>\n",
       "    </tr>\n",
       "    <tr>\n",
       "      <th>10</th>\n",
       "      <td>False</td>\n",
       "      <td>False</td>\n",
       "      <td>False</td>\n",
       "      <td>False</td>\n",
       "      <td>False</td>\n",
       "      <td>False</td>\n",
       "    </tr>\n",
       "    <tr>\n",
       "      <th>11</th>\n",
       "      <td>False</td>\n",
       "      <td>False</td>\n",
       "      <td>False</td>\n",
       "      <td>False</td>\n",
       "      <td>False</td>\n",
       "      <td>False</td>\n",
       "    </tr>\n",
       "    <tr>\n",
       "      <th>12</th>\n",
       "      <td>False</td>\n",
       "      <td>False</td>\n",
       "      <td>False</td>\n",
       "      <td>False</td>\n",
       "      <td>False</td>\n",
       "      <td>False</td>\n",
       "    </tr>\n",
       "    <tr>\n",
       "      <th>13</th>\n",
       "      <td>False</td>\n",
       "      <td>False</td>\n",
       "      <td>False</td>\n",
       "      <td>False</td>\n",
       "      <td>False</td>\n",
       "      <td>False</td>\n",
       "    </tr>\n",
       "    <tr>\n",
       "      <th>14</th>\n",
       "      <td>False</td>\n",
       "      <td>False</td>\n",
       "      <td>False</td>\n",
       "      <td>False</td>\n",
       "      <td>False</td>\n",
       "      <td>False</td>\n",
       "    </tr>\n",
       "    <tr>\n",
       "      <th>15</th>\n",
       "      <td>False</td>\n",
       "      <td>False</td>\n",
       "      <td>False</td>\n",
       "      <td>False</td>\n",
       "      <td>False</td>\n",
       "      <td>False</td>\n",
       "    </tr>\n",
       "    <tr>\n",
       "      <th>16</th>\n",
       "      <td>False</td>\n",
       "      <td>False</td>\n",
       "      <td>False</td>\n",
       "      <td>False</td>\n",
       "      <td>False</td>\n",
       "      <td>False</td>\n",
       "    </tr>\n",
       "    <tr>\n",
       "      <th>17</th>\n",
       "      <td>False</td>\n",
       "      <td>False</td>\n",
       "      <td>False</td>\n",
       "      <td>False</td>\n",
       "      <td>False</td>\n",
       "      <td>False</td>\n",
       "    </tr>\n",
       "    <tr>\n",
       "      <th>18</th>\n",
       "      <td>False</td>\n",
       "      <td>False</td>\n",
       "      <td>False</td>\n",
       "      <td>False</td>\n",
       "      <td>False</td>\n",
       "      <td>False</td>\n",
       "    </tr>\n",
       "    <tr>\n",
       "      <th>19</th>\n",
       "      <td>False</td>\n",
       "      <td>False</td>\n",
       "      <td>False</td>\n",
       "      <td>False</td>\n",
       "      <td>False</td>\n",
       "      <td>False</td>\n",
       "    </tr>\n",
       "    <tr>\n",
       "      <th>20</th>\n",
       "      <td>False</td>\n",
       "      <td>False</td>\n",
       "      <td>False</td>\n",
       "      <td>False</td>\n",
       "      <td>False</td>\n",
       "      <td>False</td>\n",
       "    </tr>\n",
       "    <tr>\n",
       "      <th>21</th>\n",
       "      <td>False</td>\n",
       "      <td>False</td>\n",
       "      <td>False</td>\n",
       "      <td>False</td>\n",
       "      <td>False</td>\n",
       "      <td>False</td>\n",
       "    </tr>\n",
       "    <tr>\n",
       "      <th>22</th>\n",
       "      <td>False</td>\n",
       "      <td>False</td>\n",
       "      <td>False</td>\n",
       "      <td>False</td>\n",
       "      <td>False</td>\n",
       "      <td>False</td>\n",
       "    </tr>\n",
       "    <tr>\n",
       "      <th>23</th>\n",
       "      <td>False</td>\n",
       "      <td>False</td>\n",
       "      <td>False</td>\n",
       "      <td>False</td>\n",
       "      <td>False</td>\n",
       "      <td>False</td>\n",
       "    </tr>\n",
       "    <tr>\n",
       "      <th>24</th>\n",
       "      <td>False</td>\n",
       "      <td>False</td>\n",
       "      <td>False</td>\n",
       "      <td>False</td>\n",
       "      <td>False</td>\n",
       "      <td>False</td>\n",
       "    </tr>\n",
       "    <tr>\n",
       "      <th>25</th>\n",
       "      <td>False</td>\n",
       "      <td>False</td>\n",
       "      <td>False</td>\n",
       "      <td>False</td>\n",
       "      <td>False</td>\n",
       "      <td>False</td>\n",
       "    </tr>\n",
       "    <tr>\n",
       "      <th>26</th>\n",
       "      <td>False</td>\n",
       "      <td>False</td>\n",
       "      <td>False</td>\n",
       "      <td>False</td>\n",
       "      <td>False</td>\n",
       "      <td>False</td>\n",
       "    </tr>\n",
       "    <tr>\n",
       "      <th>27</th>\n",
       "      <td>False</td>\n",
       "      <td>False</td>\n",
       "      <td>False</td>\n",
       "      <td>False</td>\n",
       "      <td>False</td>\n",
       "      <td>False</td>\n",
       "    </tr>\n",
       "    <tr>\n",
       "      <th>28</th>\n",
       "      <td>False</td>\n",
       "      <td>False</td>\n",
       "      <td>False</td>\n",
       "      <td>False</td>\n",
       "      <td>False</td>\n",
       "      <td>False</td>\n",
       "    </tr>\n",
       "    <tr>\n",
       "      <th>29</th>\n",
       "      <td>False</td>\n",
       "      <td>False</td>\n",
       "      <td>False</td>\n",
       "      <td>False</td>\n",
       "      <td>False</td>\n",
       "      <td>False</td>\n",
       "    </tr>\n",
       "    <tr>\n",
       "      <th>30</th>\n",
       "      <td>False</td>\n",
       "      <td>False</td>\n",
       "      <td>False</td>\n",
       "      <td>False</td>\n",
       "      <td>False</td>\n",
       "      <td>False</td>\n",
       "    </tr>\n",
       "    <tr>\n",
       "      <th>31</th>\n",
       "      <td>False</td>\n",
       "      <td>False</td>\n",
       "      <td>False</td>\n",
       "      <td>False</td>\n",
       "      <td>False</td>\n",
       "      <td>False</td>\n",
       "    </tr>\n",
       "    <tr>\n",
       "      <th>32</th>\n",
       "      <td>False</td>\n",
       "      <td>False</td>\n",
       "      <td>False</td>\n",
       "      <td>False</td>\n",
       "      <td>False</td>\n",
       "      <td>False</td>\n",
       "    </tr>\n",
       "    <tr>\n",
       "      <th>33</th>\n",
       "      <td>False</td>\n",
       "      <td>False</td>\n",
       "      <td>False</td>\n",
       "      <td>False</td>\n",
       "      <td>False</td>\n",
       "      <td>False</td>\n",
       "    </tr>\n",
       "    <tr>\n",
       "      <th>34</th>\n",
       "      <td>False</td>\n",
       "      <td>False</td>\n",
       "      <td>False</td>\n",
       "      <td>False</td>\n",
       "      <td>False</td>\n",
       "      <td>False</td>\n",
       "    </tr>\n",
       "    <tr>\n",
       "      <th>35</th>\n",
       "      <td>False</td>\n",
       "      <td>False</td>\n",
       "      <td>False</td>\n",
       "      <td>False</td>\n",
       "      <td>False</td>\n",
       "      <td>False</td>\n",
       "    </tr>\n",
       "    <tr>\n",
       "      <th>36</th>\n",
       "      <td>False</td>\n",
       "      <td>False</td>\n",
       "      <td>False</td>\n",
       "      <td>False</td>\n",
       "      <td>False</td>\n",
       "      <td>False</td>\n",
       "    </tr>\n",
       "    <tr>\n",
       "      <th>37</th>\n",
       "      <td>False</td>\n",
       "      <td>False</td>\n",
       "      <td>False</td>\n",
       "      <td>False</td>\n",
       "      <td>False</td>\n",
       "      <td>False</td>\n",
       "    </tr>\n",
       "    <tr>\n",
       "      <th>38</th>\n",
       "      <td>False</td>\n",
       "      <td>False</td>\n",
       "      <td>False</td>\n",
       "      <td>False</td>\n",
       "      <td>False</td>\n",
       "      <td>False</td>\n",
       "    </tr>\n",
       "    <tr>\n",
       "      <th>39</th>\n",
       "      <td>False</td>\n",
       "      <td>False</td>\n",
       "      <td>False</td>\n",
       "      <td>False</td>\n",
       "      <td>False</td>\n",
       "      <td>False</td>\n",
       "    </tr>\n",
       "    <tr>\n",
       "      <th>40</th>\n",
       "      <td>False</td>\n",
       "      <td>False</td>\n",
       "      <td>False</td>\n",
       "      <td>False</td>\n",
       "      <td>False</td>\n",
       "      <td>False</td>\n",
       "    </tr>\n",
       "    <tr>\n",
       "      <th>41</th>\n",
       "      <td>False</td>\n",
       "      <td>False</td>\n",
       "      <td>False</td>\n",
       "      <td>False</td>\n",
       "      <td>False</td>\n",
       "      <td>False</td>\n",
       "    </tr>\n",
       "    <tr>\n",
       "      <th>42</th>\n",
       "      <td>False</td>\n",
       "      <td>False</td>\n",
       "      <td>False</td>\n",
       "      <td>False</td>\n",
       "      <td>False</td>\n",
       "      <td>False</td>\n",
       "    </tr>\n",
       "    <tr>\n",
       "      <th>43</th>\n",
       "      <td>False</td>\n",
       "      <td>False</td>\n",
       "      <td>False</td>\n",
       "      <td>False</td>\n",
       "      <td>False</td>\n",
       "      <td>False</td>\n",
       "    </tr>\n",
       "  </tbody>\n",
       "</table>\n",
       "</div>"
      ],
      "text/plain": [
       "    COL 1  COL 2  COL 3  COL 4  COL 5  COL 6\n",
       "0   False  False  False  False  False  False\n",
       "1   False  False  False  False  False  False\n",
       "2   False  False  False  False  False  False\n",
       "3   False  False  False  False  False  False\n",
       "4   False  False  False  False  False  False\n",
       "5   False  False  False  False  False  False\n",
       "6   False  False  False  False  False  False\n",
       "7   False  False  False  False  False  False\n",
       "8   False  False  False  False  False  False\n",
       "9   False  False  False  False  False  False\n",
       "10  False  False  False  False  False  False\n",
       "11  False  False  False  False  False  False\n",
       "12  False  False  False  False  False  False\n",
       "13  False  False  False  False  False  False\n",
       "14  False  False  False  False  False  False\n",
       "15  False  False  False  False  False  False\n",
       "16  False  False  False  False  False  False\n",
       "17  False  False  False  False  False  False\n",
       "18  False  False  False  False  False  False\n",
       "19  False  False  False  False  False  False\n",
       "20  False  False  False  False  False  False\n",
       "21  False  False  False  False  False  False\n",
       "22  False  False  False  False  False  False\n",
       "23  False  False  False  False  False  False\n",
       "24  False  False  False  False  False  False\n",
       "25  False  False  False  False  False  False\n",
       "26  False  False  False  False  False  False\n",
       "27  False  False  False  False  False  False\n",
       "28  False  False  False  False  False  False\n",
       "29  False  False  False  False  False  False\n",
       "30  False  False  False  False  False  False\n",
       "31  False  False  False  False  False  False\n",
       "32  False  False  False  False  False  False\n",
       "33  False  False  False  False  False  False\n",
       "34  False  False  False  False  False  False\n",
       "35  False  False  False  False  False  False\n",
       "36  False  False  False  False  False  False\n",
       "37  False  False  False  False  False  False\n",
       "38  False  False  False  False  False  False\n",
       "39  False  False  False  False  False  False\n",
       "40  False  False  False  False  False  False\n",
       "41  False  False  False  False  False  False\n",
       "42  False  False  False  False  False  False\n",
       "43  False  False  False  False  False  False"
      ]
     },
     "metadata": {},
     "output_type": "display_data"
    },
    {
     "data": {
      "text/plain": [
       "COL 1    False\n",
       "COL 2    False\n",
       "COL 3    False\n",
       "COL 4    False\n",
       "COL 5    False\n",
       "COL 6    False\n",
       "dtype: bool"
      ]
     },
     "execution_count": 9,
     "metadata": {},
     "output_type": "execute_result"
    }
   ],
   "source": [
    "display(df)\n",
    "display(df.isnull())\n",
    "df.isnull().any()\n"
   ]
  },
  {
   "cell_type": "markdown",
   "metadata": {},
   "source": [
    "Rename Columns"
   ]
  },
  {
   "cell_type": "code",
   "execution_count": 10,
   "metadata": {},
   "outputs": [
    {
     "name": "stdout",
     "output_type": "stream",
     "text": [
      "     Date&Time  Cust_ID  Product  Country    Sales_items               Sales\n",
      "0    Date&Time  Cust_ID  product  country  sales (items)           sales (?)\n",
      "1   2020-10-07   Cust_5   prod_3    China              3   229.9089822771919\n",
      "2   2020-10-08   Cust_2   prod_3    China              7   568.3181644162846\n",
      "3   2020-10-09   Cust_3   prod_3      USA             12   988.8381376016109\n",
      "4   2020-10-10   Cust_7   prod_3   Brazil             12   903.4925748649143\n",
      "5   2020-10-11   Cust_3   prod_1      USA              7   512.6828911855611\n",
      "6   2020-10-12   Cust_6   prod_1      USA              8   534.0792696173543\n",
      "7   2020-10-13   Cust_3   prod_3      USA             13   844.3142328212228\n",
      "8   2020-10-14   Cust_1   prod_2  Germany             15   784.5362324213743\n",
      "9   2020-10-15   Cust_1   prod_2  Germany             11   485.7288195472678\n",
      "10  2020-10-16   Cust_1   prod_1  Germany              6  289.03465632256626\n",
      "11  2020-10-17   Cust_2   prod_1    China              6  447.96120700560834\n",
      "12  2020-10-18   Cust_3   prod_3      USA              9   667.5522076942311\n",
      "13  2020-10-19   Cust_1   prod_1  Germany              7    480.745741215611\n",
      "14  2020-10-20   Cust_4   prod_3  Germany              8   376.4989747682864\n",
      "15  2020-10-21   Cust_1   prod_2  Germany             11   456.6765498659165\n",
      "16  2020-10-22   Cust_6   prod_2      USA              9  352.45563889143483\n",
      "17  2020-10-23   Cust_6   prod_2      USA              6  242.33918553721128\n",
      "18  2020-10-24   Cust_6   prod_2      USA              6  222.56362094411423\n",
      "19  2020-10-25   Cust_7   prod_2   Brazil              5  196.56869051551124\n",
      "20  2020-10-26   Cust_5   prod_3    China              3  147.32651160871885\n",
      "21  2020-10-27   Cust_9   prod_3  Germany              2   127.4664274254398\n",
      "22  2020-10-28   Cust_3   prod_3      USA              3   146.2766474565324\n",
      "23  2020-10-29   Cust_4   prod_2  Germany              5  215.17701259628723\n",
      "24  2020-10-30   Cust_3   prod_2      USA              6   262.8550764390219\n",
      "25  2020-10-31   Cust_2   prod_3    China              5  228.80998435678163\n",
      "26  2020-11-01   Cust_6   prod_1      USA              5  209.00554092001883\n",
      "27  2020-11-02   Cust_1   prod_2  Germany              7  259.70724991808834\n",
      "28  2020-11-03   Cust_5   prod_1    China              9  335.81298724768965\n",
      "29  2020-11-04   Cust_3   prod_2      USA              9  353.61160294522557\n",
      "30  2020-11-05   Cust_7   prod_1   Brazil              8   303.1143810714806\n",
      "31  2020-11-06   Cust_2   prod_1    China              7  267.36524277597056\n",
      "32  2020-11-07   Cust_1   prod_2  Germany              5    218.416401515161\n",
      "33  2020-11-08   Cust_1   prod_3  Germany              3  153.23880135480263\n",
      "34  2020-11-09   Cust_5   prod_1    China              3  127.94065258305532\n",
      "35  2020-11-10   Cust_6   prod_1      USA              6    235.389243064478\n",
      "36  2020-11-11   Cust_6   prod_2      USA              9   437.8401684696941\n",
      "37  2020-11-12   Cust_2   prod_3    China              9  495.66179621585076\n",
      "38  2020-11-13   Cust_3   prod_1      USA              7   374.5398628167425\n",
      "39  2020-11-14   Cust_1   prod_2  Germany              5   294.9164319527281\n",
      "40  2020-11-15   Cust_7   prod_3   Brazil              5   315.3549525573271\n",
      "41  2020-11-16   Cust_4   prod_2  Germany              5  261.95077780019403\n",
      "42  2020-11-17   Cust_4   prod_1  Germany              6   215.0829837266131\n",
      "43  2020-11-18   Cust_4   prod_1  Germany              6   197.6663358548984\n"
     ]
    }
   ],
   "source": [
    "df = df.rename(columns={'COL 1': 'Date&Time', 'COL 2' : 'Cust_ID', 'COL 3' : 'Product', 'COL 4' : 'Country', 'COL 5' : 'Sales_items', 'COL 6' : 'Sales'})\n",
    "print(df)"
   ]
  },
  {
   "cell_type": "markdown",
   "metadata": {},
   "source": [
    "Delete or remove row by rows number. And we deleted row 0 because of it was a useless row."
   ]
  },
  {
   "cell_type": "code",
   "execution_count": 11,
   "metadata": {},
   "outputs": [
    {
     "name": "stdout",
     "output_type": "stream",
     "text": [
      "     Date&Time Cust_ID Product  Country Sales_items               Sales\n",
      "1   2020-10-07  Cust_5  prod_3    China           3   229.9089822771919\n",
      "2   2020-10-08  Cust_2  prod_3    China           7   568.3181644162846\n",
      "3   2020-10-09  Cust_3  prod_3      USA          12   988.8381376016109\n",
      "4   2020-10-10  Cust_7  prod_3   Brazil          12   903.4925748649143\n",
      "5   2020-10-11  Cust_3  prod_1      USA           7   512.6828911855611\n",
      "6   2020-10-12  Cust_6  prod_1      USA           8   534.0792696173543\n",
      "7   2020-10-13  Cust_3  prod_3      USA          13   844.3142328212228\n",
      "8   2020-10-14  Cust_1  prod_2  Germany          15   784.5362324213743\n",
      "9   2020-10-15  Cust_1  prod_2  Germany          11   485.7288195472678\n",
      "10  2020-10-16  Cust_1  prod_1  Germany           6  289.03465632256626\n",
      "11  2020-10-17  Cust_2  prod_1    China           6  447.96120700560834\n",
      "12  2020-10-18  Cust_3  prod_3      USA           9   667.5522076942311\n",
      "13  2020-10-19  Cust_1  prod_1  Germany           7    480.745741215611\n",
      "14  2020-10-20  Cust_4  prod_3  Germany           8   376.4989747682864\n",
      "15  2020-10-21  Cust_1  prod_2  Germany          11   456.6765498659165\n",
      "16  2020-10-22  Cust_6  prod_2      USA           9  352.45563889143483\n",
      "17  2020-10-23  Cust_6  prod_2      USA           6  242.33918553721128\n",
      "18  2020-10-24  Cust_6  prod_2      USA           6  222.56362094411423\n",
      "19  2020-10-25  Cust_7  prod_2   Brazil           5  196.56869051551124\n",
      "20  2020-10-26  Cust_5  prod_3    China           3  147.32651160871885\n",
      "21  2020-10-27  Cust_9  prod_3  Germany           2   127.4664274254398\n",
      "22  2020-10-28  Cust_3  prod_3      USA           3   146.2766474565324\n",
      "23  2020-10-29  Cust_4  prod_2  Germany           5  215.17701259628723\n",
      "24  2020-10-30  Cust_3  prod_2      USA           6   262.8550764390219\n",
      "25  2020-10-31  Cust_2  prod_3    China           5  228.80998435678163\n",
      "26  2020-11-01  Cust_6  prod_1      USA           5  209.00554092001883\n",
      "27  2020-11-02  Cust_1  prod_2  Germany           7  259.70724991808834\n",
      "28  2020-11-03  Cust_5  prod_1    China           9  335.81298724768965\n",
      "29  2020-11-04  Cust_3  prod_2      USA           9  353.61160294522557\n",
      "30  2020-11-05  Cust_7  prod_1   Brazil           8   303.1143810714806\n",
      "31  2020-11-06  Cust_2  prod_1    China           7  267.36524277597056\n",
      "32  2020-11-07  Cust_1  prod_2  Germany           5    218.416401515161\n",
      "33  2020-11-08  Cust_1  prod_3  Germany           3  153.23880135480263\n",
      "34  2020-11-09  Cust_5  prod_1    China           3  127.94065258305532\n",
      "35  2020-11-10  Cust_6  prod_1      USA           6    235.389243064478\n",
      "36  2020-11-11  Cust_6  prod_2      USA           9   437.8401684696941\n",
      "37  2020-11-12  Cust_2  prod_3    China           9  495.66179621585076\n",
      "38  2020-11-13  Cust_3  prod_1      USA           7   374.5398628167425\n",
      "39  2020-11-14  Cust_1  prod_2  Germany           5   294.9164319527281\n",
      "40  2020-11-15  Cust_7  prod_3   Brazil           5   315.3549525573271\n",
      "41  2020-11-16  Cust_4  prod_2  Germany           5  261.95077780019403\n",
      "42  2020-11-17  Cust_4  prod_1  Germany           6   215.0829837266131\n",
      "43  2020-11-18  Cust_4  prod_1  Germany           6   197.6663358548984\n"
     ]
    }
   ],
   "source": [
    "print(df.drop(df.index[0]))"
   ]
  },
  {
   "cell_type": "markdown",
   "metadata": {},
   "source": [
    "Change data types."
   ]
  },
  {
   "cell_type": "code",
   "execution_count": 12,
   "metadata": {},
   "outputs": [
    {
     "name": "stdout",
     "output_type": "stream",
     "text": [
      "<class 'pandas.core.frame.DataFrame'>\n",
      "RangeIndex: 44 entries, 0 to 43\n",
      "Data columns (total 6 columns):\n",
      " #   Column       Non-Null Count  Dtype \n",
      "---  ------       --------------  ----- \n",
      " 0   Date&Time    44 non-null     object\n",
      " 1   Cust_ID      44 non-null     object\n",
      " 2   Product      44 non-null     object\n",
      " 3   Country      44 non-null     object\n",
      " 4   Sales_items  44 non-null     object\n",
      " 5   Sales        44 non-null     object\n",
      "dtypes: object(6)\n",
      "memory usage: 2.2+ KB\n"
     ]
    }
   ],
   "source": [
    "df.info()"
   ]
  },
  {
   "cell_type": "code",
   "execution_count": 13,
   "metadata": {},
   "outputs": [
    {
     "name": "stdout",
     "output_type": "stream",
     "text": [
      "object\n"
     ]
    }
   ],
   "source": [
    "print(df['Date&Time'].dtypes)"
   ]
  },
  {
   "cell_type": "code",
   "execution_count": 14,
   "metadata": {},
   "outputs": [],
   "source": [
    "df['Date&Time'] = pd.to_datetime(df['Date&Time'], format='%Y-%m-%d', errors='coerce')\n"
   ]
  },
  {
   "cell_type": "code",
   "execution_count": 16,
   "metadata": {},
   "outputs": [],
   "source": [
    "# Convert 'Sales(items)' to numeric integer\n",
    "df['Sales_items'] = pd.to_numeric(df['Sales_items'], errors='coerce').astype('Int64')\n",
    "\n",
    "# Convert 'Sales' to numeric (float or long integer depending on the data)\n",
    "df['Sales'] = pd.to_numeric(df['Sales'], errors='coerce')\n"
   ]
  },
  {
   "cell_type": "code",
   "execution_count": null,
   "metadata": {},
   "outputs": [
    {
     "name": "stdout",
     "output_type": "stream",
     "text": [
      "<class 'pandas.core.frame.DataFrame'>\n",
      "RangeIndex: 44 entries, 0 to 43\n",
      "Data columns (total 6 columns):\n",
      " #   Column        Non-Null Count  Dtype         \n",
      "---  ------        --------------  -----         \n",
      " 0   Date&Time     43 non-null     datetime64[ns]\n",
      " 1   Cust_ID       44 non-null     object        \n",
      " 2   Product       44 non-null     object        \n",
      " 3   Country       44 non-null     object        \n",
      " 4   Sales(items)  43 non-null     Int64         \n",
      " 5   Sales         43 non-null     float64       \n",
      "dtypes: Int64(1), datetime64[ns](1), float64(1), object(3)\n",
      "memory usage: 2.2+ KB\n"
     ]
    }
   ],
   "source": [
    "df.info()"
   ]
  },
  {
   "cell_type": "markdown",
   "metadata": {},
   "source": [
    "Make a visualization data =>  line plot "
   ]
  },
  {
   "cell_type": "code",
   "execution_count": 17,
   "metadata": {},
   "outputs": [
    {
     "data": {
      "application/vnd.plotly.v1+json": {
       "config": {
        "plotlyServerURL": "https://plot.ly"
       },
       "data": [
        {
         "mode": "lines",
         "name": "Month 1",
         "type": "scatter",
         "x": [],
         "y": []
        },
        {
         "mode": "lines",
         "name": "Month 2",
         "type": "scatter",
         "x": [],
         "y": []
        },
        {
         "mode": "lines",
         "name": "Month 3",
         "type": "scatter",
         "x": [],
         "y": []
        },
        {
         "mode": "lines",
         "name": "Month 4",
         "type": "scatter",
         "x": [],
         "y": []
        },
        {
         "mode": "lines",
         "name": "Month 5",
         "type": "scatter",
         "x": [],
         "y": []
        },
        {
         "mode": "lines",
         "name": "Month 6",
         "type": "scatter",
         "x": [],
         "y": []
        },
        {
         "mode": "lines",
         "name": "Month 7",
         "type": "scatter",
         "x": [],
         "y": []
        },
        {
         "mode": "lines",
         "name": "Month 8",
         "type": "scatter",
         "x": [],
         "y": []
        },
        {
         "mode": "lines",
         "name": "Month 9",
         "type": "scatter",
         "x": [],
         "y": []
        },
        {
         "mode": "lines",
         "name": "Month 10",
         "type": "scatter",
         "x": [
          "2020-10-07T00:00:00",
          "2020-10-08T00:00:00",
          "2020-10-09T00:00:00",
          "2020-10-10T00:00:00",
          "2020-10-11T00:00:00",
          "2020-10-12T00:00:00",
          "2020-10-13T00:00:00",
          "2020-10-14T00:00:00",
          "2020-10-15T00:00:00",
          "2020-10-16T00:00:00",
          "2020-10-17T00:00:00",
          "2020-10-18T00:00:00",
          "2020-10-19T00:00:00",
          "2020-10-20T00:00:00",
          "2020-10-21T00:00:00",
          "2020-10-22T00:00:00",
          "2020-10-23T00:00:00",
          "2020-10-24T00:00:00",
          "2020-10-25T00:00:00",
          "2020-10-26T00:00:00",
          "2020-10-27T00:00:00",
          "2020-10-28T00:00:00",
          "2020-10-29T00:00:00",
          "2020-10-30T00:00:00",
          "2020-10-31T00:00:00"
         ],
         "y": [
          229.9089822771919,
          568.3181644162846,
          988.8381376016108,
          903.4925748649144,
          512.6828911855611,
          534.0792696173543,
          844.3142328212228,
          784.5362324213743,
          485.7288195472678,
          289.03465632256626,
          447.96120700560834,
          667.5522076942311,
          480.745741215611,
          376.4989747682864,
          456.6765498659165,
          352.45563889143483,
          242.33918553721128,
          222.56362094411423,
          196.56869051551124,
          147.32651160871885,
          127.4664274254398,
          146.2766474565324,
          215.17701259628723,
          262.8550764390219,
          228.80998435678163
         ]
        },
        {
         "mode": "lines",
         "name": "Month 11",
         "type": "scatter",
         "x": [
          "2020-11-01T00:00:00",
          "2020-11-02T00:00:00",
          "2020-11-03T00:00:00",
          "2020-11-04T00:00:00",
          "2020-11-05T00:00:00",
          "2020-11-06T00:00:00",
          "2020-11-07T00:00:00",
          "2020-11-08T00:00:00",
          "2020-11-09T00:00:00",
          "2020-11-10T00:00:00",
          "2020-11-11T00:00:00",
          "2020-11-12T00:00:00",
          "2020-11-13T00:00:00",
          "2020-11-14T00:00:00",
          "2020-11-15T00:00:00",
          "2020-11-16T00:00:00",
          "2020-11-17T00:00:00",
          "2020-11-18T00:00:00"
         ],
         "y": [
          209.00554092001883,
          259.70724991808834,
          335.81298724768965,
          353.6116029452256,
          303.1143810714806,
          267.36524277597056,
          218.416401515161,
          153.23880135480263,
          127.94065258305532,
          235.389243064478,
          437.8401684696941,
          495.6617962158508,
          374.5398628167425,
          294.9164319527281,
          315.3549525573271,
          261.95077780019403,
          215.0829837266131,
          197.6663358548984
         ]
        },
        {
         "mode": "lines",
         "name": "Month 12",
         "type": "scatter",
         "x": [],
         "y": []
        }
       ],
       "layout": {
        "template": {
         "data": {
          "bar": [
           {
            "error_x": {
             "color": "#2a3f5f"
            },
            "error_y": {
             "color": "#2a3f5f"
            },
            "marker": {
             "line": {
              "color": "#E5ECF6",
              "width": 0.5
             },
             "pattern": {
              "fillmode": "overlay",
              "size": 10,
              "solidity": 0.2
             }
            },
            "type": "bar"
           }
          ],
          "barpolar": [
           {
            "marker": {
             "line": {
              "color": "#E5ECF6",
              "width": 0.5
             },
             "pattern": {
              "fillmode": "overlay",
              "size": 10,
              "solidity": 0.2
             }
            },
            "type": "barpolar"
           }
          ],
          "carpet": [
           {
            "aaxis": {
             "endlinecolor": "#2a3f5f",
             "gridcolor": "white",
             "linecolor": "white",
             "minorgridcolor": "white",
             "startlinecolor": "#2a3f5f"
            },
            "baxis": {
             "endlinecolor": "#2a3f5f",
             "gridcolor": "white",
             "linecolor": "white",
             "minorgridcolor": "white",
             "startlinecolor": "#2a3f5f"
            },
            "type": "carpet"
           }
          ],
          "choropleth": [
           {
            "colorbar": {
             "outlinewidth": 0,
             "ticks": ""
            },
            "type": "choropleth"
           }
          ],
          "contour": [
           {
            "colorbar": {
             "outlinewidth": 0,
             "ticks": ""
            },
            "colorscale": [
             [
              0,
              "#0d0887"
             ],
             [
              0.1111111111111111,
              "#46039f"
             ],
             [
              0.2222222222222222,
              "#7201a8"
             ],
             [
              0.3333333333333333,
              "#9c179e"
             ],
             [
              0.4444444444444444,
              "#bd3786"
             ],
             [
              0.5555555555555556,
              "#d8576b"
             ],
             [
              0.6666666666666666,
              "#ed7953"
             ],
             [
              0.7777777777777778,
              "#fb9f3a"
             ],
             [
              0.8888888888888888,
              "#fdca26"
             ],
             [
              1,
              "#f0f921"
             ]
            ],
            "type": "contour"
           }
          ],
          "contourcarpet": [
           {
            "colorbar": {
             "outlinewidth": 0,
             "ticks": ""
            },
            "type": "contourcarpet"
           }
          ],
          "heatmap": [
           {
            "colorbar": {
             "outlinewidth": 0,
             "ticks": ""
            },
            "colorscale": [
             [
              0,
              "#0d0887"
             ],
             [
              0.1111111111111111,
              "#46039f"
             ],
             [
              0.2222222222222222,
              "#7201a8"
             ],
             [
              0.3333333333333333,
              "#9c179e"
             ],
             [
              0.4444444444444444,
              "#bd3786"
             ],
             [
              0.5555555555555556,
              "#d8576b"
             ],
             [
              0.6666666666666666,
              "#ed7953"
             ],
             [
              0.7777777777777778,
              "#fb9f3a"
             ],
             [
              0.8888888888888888,
              "#fdca26"
             ],
             [
              1,
              "#f0f921"
             ]
            ],
            "type": "heatmap"
           }
          ],
          "heatmapgl": [
           {
            "colorbar": {
             "outlinewidth": 0,
             "ticks": ""
            },
            "colorscale": [
             [
              0,
              "#0d0887"
             ],
             [
              0.1111111111111111,
              "#46039f"
             ],
             [
              0.2222222222222222,
              "#7201a8"
             ],
             [
              0.3333333333333333,
              "#9c179e"
             ],
             [
              0.4444444444444444,
              "#bd3786"
             ],
             [
              0.5555555555555556,
              "#d8576b"
             ],
             [
              0.6666666666666666,
              "#ed7953"
             ],
             [
              0.7777777777777778,
              "#fb9f3a"
             ],
             [
              0.8888888888888888,
              "#fdca26"
             ],
             [
              1,
              "#f0f921"
             ]
            ],
            "type": "heatmapgl"
           }
          ],
          "histogram": [
           {
            "marker": {
             "pattern": {
              "fillmode": "overlay",
              "size": 10,
              "solidity": 0.2
             }
            },
            "type": "histogram"
           }
          ],
          "histogram2d": [
           {
            "colorbar": {
             "outlinewidth": 0,
             "ticks": ""
            },
            "colorscale": [
             [
              0,
              "#0d0887"
             ],
             [
              0.1111111111111111,
              "#46039f"
             ],
             [
              0.2222222222222222,
              "#7201a8"
             ],
             [
              0.3333333333333333,
              "#9c179e"
             ],
             [
              0.4444444444444444,
              "#bd3786"
             ],
             [
              0.5555555555555556,
              "#d8576b"
             ],
             [
              0.6666666666666666,
              "#ed7953"
             ],
             [
              0.7777777777777778,
              "#fb9f3a"
             ],
             [
              0.8888888888888888,
              "#fdca26"
             ],
             [
              1,
              "#f0f921"
             ]
            ],
            "type": "histogram2d"
           }
          ],
          "histogram2dcontour": [
           {
            "colorbar": {
             "outlinewidth": 0,
             "ticks": ""
            },
            "colorscale": [
             [
              0,
              "#0d0887"
             ],
             [
              0.1111111111111111,
              "#46039f"
             ],
             [
              0.2222222222222222,
              "#7201a8"
             ],
             [
              0.3333333333333333,
              "#9c179e"
             ],
             [
              0.4444444444444444,
              "#bd3786"
             ],
             [
              0.5555555555555556,
              "#d8576b"
             ],
             [
              0.6666666666666666,
              "#ed7953"
             ],
             [
              0.7777777777777778,
              "#fb9f3a"
             ],
             [
              0.8888888888888888,
              "#fdca26"
             ],
             [
              1,
              "#f0f921"
             ]
            ],
            "type": "histogram2dcontour"
           }
          ],
          "mesh3d": [
           {
            "colorbar": {
             "outlinewidth": 0,
             "ticks": ""
            },
            "type": "mesh3d"
           }
          ],
          "parcoords": [
           {
            "line": {
             "colorbar": {
              "outlinewidth": 0,
              "ticks": ""
             }
            },
            "type": "parcoords"
           }
          ],
          "pie": [
           {
            "automargin": true,
            "type": "pie"
           }
          ],
          "scatter": [
           {
            "marker": {
             "colorbar": {
              "outlinewidth": 0,
              "ticks": ""
             }
            },
            "type": "scatter"
           }
          ],
          "scatter3d": [
           {
            "line": {
             "colorbar": {
              "outlinewidth": 0,
              "ticks": ""
             }
            },
            "marker": {
             "colorbar": {
              "outlinewidth": 0,
              "ticks": ""
             }
            },
            "type": "scatter3d"
           }
          ],
          "scattercarpet": [
           {
            "marker": {
             "colorbar": {
              "outlinewidth": 0,
              "ticks": ""
             }
            },
            "type": "scattercarpet"
           }
          ],
          "scattergeo": [
           {
            "marker": {
             "colorbar": {
              "outlinewidth": 0,
              "ticks": ""
             }
            },
            "type": "scattergeo"
           }
          ],
          "scattergl": [
           {
            "marker": {
             "colorbar": {
              "outlinewidth": 0,
              "ticks": ""
             }
            },
            "type": "scattergl"
           }
          ],
          "scattermapbox": [
           {
            "marker": {
             "colorbar": {
              "outlinewidth": 0,
              "ticks": ""
             }
            },
            "type": "scattermapbox"
           }
          ],
          "scatterpolar": [
           {
            "marker": {
             "colorbar": {
              "outlinewidth": 0,
              "ticks": ""
             }
            },
            "type": "scatterpolar"
           }
          ],
          "scatterpolargl": [
           {
            "marker": {
             "colorbar": {
              "outlinewidth": 0,
              "ticks": ""
             }
            },
            "type": "scatterpolargl"
           }
          ],
          "scatterternary": [
           {
            "marker": {
             "colorbar": {
              "outlinewidth": 0,
              "ticks": ""
             }
            },
            "type": "scatterternary"
           }
          ],
          "surface": [
           {
            "colorbar": {
             "outlinewidth": 0,
             "ticks": ""
            },
            "colorscale": [
             [
              0,
              "#0d0887"
             ],
             [
              0.1111111111111111,
              "#46039f"
             ],
             [
              0.2222222222222222,
              "#7201a8"
             ],
             [
              0.3333333333333333,
              "#9c179e"
             ],
             [
              0.4444444444444444,
              "#bd3786"
             ],
             [
              0.5555555555555556,
              "#d8576b"
             ],
             [
              0.6666666666666666,
              "#ed7953"
             ],
             [
              0.7777777777777778,
              "#fb9f3a"
             ],
             [
              0.8888888888888888,
              "#fdca26"
             ],
             [
              1,
              "#f0f921"
             ]
            ],
            "type": "surface"
           }
          ],
          "table": [
           {
            "cells": {
             "fill": {
              "color": "#EBF0F8"
             },
             "line": {
              "color": "white"
             }
            },
            "header": {
             "fill": {
              "color": "#C8D4E3"
             },
             "line": {
              "color": "white"
             }
            },
            "type": "table"
           }
          ]
         },
         "layout": {
          "annotationdefaults": {
           "arrowcolor": "#2a3f5f",
           "arrowhead": 0,
           "arrowwidth": 1
          },
          "autotypenumbers": "strict",
          "coloraxis": {
           "colorbar": {
            "outlinewidth": 0,
            "ticks": ""
           }
          },
          "colorscale": {
           "diverging": [
            [
             0,
             "#8e0152"
            ],
            [
             0.1,
             "#c51b7d"
            ],
            [
             0.2,
             "#de77ae"
            ],
            [
             0.3,
             "#f1b6da"
            ],
            [
             0.4,
             "#fde0ef"
            ],
            [
             0.5,
             "#f7f7f7"
            ],
            [
             0.6,
             "#e6f5d0"
            ],
            [
             0.7,
             "#b8e186"
            ],
            [
             0.8,
             "#7fbc41"
            ],
            [
             0.9,
             "#4d9221"
            ],
            [
             1,
             "#276419"
            ]
           ],
           "sequential": [
            [
             0,
             "#0d0887"
            ],
            [
             0.1111111111111111,
             "#46039f"
            ],
            [
             0.2222222222222222,
             "#7201a8"
            ],
            [
             0.3333333333333333,
             "#9c179e"
            ],
            [
             0.4444444444444444,
             "#bd3786"
            ],
            [
             0.5555555555555556,
             "#d8576b"
            ],
            [
             0.6666666666666666,
             "#ed7953"
            ],
            [
             0.7777777777777778,
             "#fb9f3a"
            ],
            [
             0.8888888888888888,
             "#fdca26"
            ],
            [
             1,
             "#f0f921"
            ]
           ],
           "sequentialminus": [
            [
             0,
             "#0d0887"
            ],
            [
             0.1111111111111111,
             "#46039f"
            ],
            [
             0.2222222222222222,
             "#7201a8"
            ],
            [
             0.3333333333333333,
             "#9c179e"
            ],
            [
             0.4444444444444444,
             "#bd3786"
            ],
            [
             0.5555555555555556,
             "#d8576b"
            ],
            [
             0.6666666666666666,
             "#ed7953"
            ],
            [
             0.7777777777777778,
             "#fb9f3a"
            ],
            [
             0.8888888888888888,
             "#fdca26"
            ],
            [
             1,
             "#f0f921"
            ]
           ]
          },
          "colorway": [
           "#636efa",
           "#EF553B",
           "#00cc96",
           "#ab63fa",
           "#FFA15A",
           "#19d3f3",
           "#FF6692",
           "#B6E880",
           "#FF97FF",
           "#FECB52"
          ],
          "font": {
           "color": "#2a3f5f"
          },
          "geo": {
           "bgcolor": "white",
           "lakecolor": "white",
           "landcolor": "#E5ECF6",
           "showlakes": true,
           "showland": true,
           "subunitcolor": "white"
          },
          "hoverlabel": {
           "align": "left"
          },
          "hovermode": "closest",
          "mapbox": {
           "style": "light"
          },
          "paper_bgcolor": "white",
          "plot_bgcolor": "#E5ECF6",
          "polar": {
           "angularaxis": {
            "gridcolor": "white",
            "linecolor": "white",
            "ticks": ""
           },
           "bgcolor": "#E5ECF6",
           "radialaxis": {
            "gridcolor": "white",
            "linecolor": "white",
            "ticks": ""
           }
          },
          "scene": {
           "xaxis": {
            "backgroundcolor": "#E5ECF6",
            "gridcolor": "white",
            "gridwidth": 2,
            "linecolor": "white",
            "showbackground": true,
            "ticks": "",
            "zerolinecolor": "white"
           },
           "yaxis": {
            "backgroundcolor": "#E5ECF6",
            "gridcolor": "white",
            "gridwidth": 2,
            "linecolor": "white",
            "showbackground": true,
            "ticks": "",
            "zerolinecolor": "white"
           },
           "zaxis": {
            "backgroundcolor": "#E5ECF6",
            "gridcolor": "white",
            "gridwidth": 2,
            "linecolor": "white",
            "showbackground": true,
            "ticks": "",
            "zerolinecolor": "white"
           }
          },
          "shapedefaults": {
           "line": {
            "color": "#2a3f5f"
           }
          },
          "ternary": {
           "aaxis": {
            "gridcolor": "white",
            "linecolor": "white",
            "ticks": ""
           },
           "baxis": {
            "gridcolor": "white",
            "linecolor": "white",
            "ticks": ""
           },
           "bgcolor": "#E5ECF6",
           "caxis": {
            "gridcolor": "white",
            "linecolor": "white",
            "ticks": ""
           }
          },
          "title": {
           "x": 0.05
          },
          "xaxis": {
           "automargin": true,
           "gridcolor": "white",
           "linecolor": "white",
           "ticks": "",
           "title": {
            "standoff": 15
           },
           "zerolinecolor": "white",
           "zerolinewidth": 2
          },
          "yaxis": {
           "automargin": true,
           "gridcolor": "white",
           "linecolor": "white",
           "ticks": "",
           "title": {
            "standoff": 15
           },
           "zerolinecolor": "white",
           "zerolinewidth": 2
          }
         }
        },
        "title": {
         "text": "Sales Over Time"
        },
        "xaxis": {
         "tickmode": "array",
         "ticktext": [
          "Jan",
          "Feb",
          "Mar",
          "Apr",
          "May",
          "Jun",
          "Jul",
          "Aug",
          "Sep",
          "Oct",
          "Nov",
          "Dec"
         ],
         "tickvals": [
          10,
          11
         ],
         "title": {
          "text": "Month"
         }
        },
        "yaxis": {
         "title": {
          "text": "Sales Amount"
         }
        }
       }
      }
     },
     "metadata": {},
     "output_type": "display_data"
    }
   ],
   "source": [
    "import plotly.graph_objects as go\n",
    "\n",
    "\n",
    "# Assuming your DataFrame is named 'df' and has 'Date&Time' and 'Sales' columns\n",
    "# Make sure 'Date&Time' is already converted to datetime format\n",
    "df['Date&Time'] = pd.to_datetime(df['Date&Time'], format='%Y-%m-%d %H:%M:%S')\n",
    "\n",
    "# Drop rows with missing values in 'Date&Time' or 'Sales'\n",
    "df = df.dropna(subset=['Date&Time', 'Sales'])\n",
    "\n",
    "# Create a line plot\n",
    "fig = go.Figure()\n",
    "\n",
    "for month in range(1, 13):\n",
    "    month_data = df[df['Date&Time'].dt.month == month]\n",
    "    fig.add_trace(go.Scatter(x=month_data['Date&Time'], y=month_data['Sales'], mode='lines', name=f'Month {month}'))\n",
    "\n",
    "# Update x-axis to show only the month name\n",
    "fig.update_layout(xaxis=dict(\n",
    "    tickmode='array',\n",
    "    tickvals=df['Date&Time'].dt.month.unique(),\n",
    "    ticktext=[month.strftime('%b') for month in pd.date_range('2022-01-01', '2022-12-01', freq='MS')],\n",
    "))\n",
    "\n",
    "fig.update_layout(title='Sales Over Time', xaxis_title='Month', yaxis_title='Sales Amount')\n",
    "fig.show()\n"
   ]
  },
  {
   "cell_type": "code",
   "execution_count": null,
   "metadata": {},
   "outputs": [
    {
     "name": "stdout",
     "output_type": "stream",
     "text": [
      "<class 'pandas.core.frame.DataFrame'>\n",
      "RangeIndex: 2 entries, 0 to 1\n",
      "Data columns (total 1 columns):\n",
      " #   Column  Non-Null Count  Dtype \n",
      "---  ------  --------------  ----- \n",
      " 0   0       2 non-null      object\n",
      "dtypes: object(1)\n",
      "memory usage: 144.0+ bytes\n"
     ]
    }
   ],
   "source": [
    "df.info()"
   ]
  },
  {
   "cell_type": "markdown",
   "metadata": {},
   "source": [
    "Looking for which country has the highest sales using bar chat visualization"
   ]
  },
  {
   "cell_type": "code",
   "execution_count": 19,
   "metadata": {},
   "outputs": [
    {
     "data": {
      "application/vnd.plotly.v1+json": {
       "config": {
        "plotlyServerURL": "https://plot.ly"
       },
       "data": [
        {
         "alignmentgroup": "True",
         "hovertemplate": "Country=%{x}<br>Sales Amount=%{y}<extra></extra>",
         "legendgroup": "China",
         "marker": {
          "color": "#636efa",
          "pattern": {
           "shape": ""
          }
         },
         "name": "China",
         "offsetgroup": "China",
         "orientation": "v",
         "showlegend": true,
         "textposition": "auto",
         "type": "bar",
         "x": [
          "China",
          "China",
          "China",
          "China",
          "China",
          "China",
          "China",
          "China",
          "China"
         ],
         "xaxis": "x",
         "y": [
          3,
          7,
          6,
          3,
          5,
          9,
          7,
          3,
          9
         ],
         "yaxis": "y"
        },
        {
         "alignmentgroup": "True",
         "hovertemplate": "Country=%{x}<br>Sales Amount=%{y}<extra></extra>",
         "legendgroup": "USA",
         "marker": {
          "color": "#EF553B",
          "pattern": {
           "shape": ""
          }
         },
         "name": "USA",
         "offsetgroup": "USA",
         "orientation": "v",
         "showlegend": true,
         "textposition": "auto",
         "type": "bar",
         "x": [
          "USA",
          "USA",
          "USA",
          "USA",
          "USA",
          "USA",
          "USA",
          "USA",
          "USA",
          "USA",
          "USA",
          "USA",
          "USA",
          "USA",
          "USA"
         ],
         "xaxis": "x",
         "y": [
          12,
          7,
          8,
          13,
          9,
          9,
          6,
          6,
          3,
          6,
          5,
          9,
          6,
          9,
          7
         ],
         "yaxis": "y"
        },
        {
         "alignmentgroup": "True",
         "hovertemplate": "Country=%{x}<br>Sales Amount=%{y}<extra></extra>",
         "legendgroup": "Brazil",
         "marker": {
          "color": "#00cc96",
          "pattern": {
           "shape": ""
          }
         },
         "name": "Brazil",
         "offsetgroup": "Brazil",
         "orientation": "v",
         "showlegend": true,
         "textposition": "auto",
         "type": "bar",
         "x": [
          "Brazil",
          "Brazil",
          "Brazil",
          "Brazil"
         ],
         "xaxis": "x",
         "y": [
          12,
          5,
          8,
          5
         ],
         "yaxis": "y"
        },
        {
         "alignmentgroup": "True",
         "hovertemplate": "Country=%{x}<br>Sales Amount=%{y}<extra></extra>",
         "legendgroup": "Germany",
         "marker": {
          "color": "#ab63fa",
          "pattern": {
           "shape": ""
          }
         },
         "name": "Germany",
         "offsetgroup": "Germany",
         "orientation": "v",
         "showlegend": true,
         "textposition": "auto",
         "type": "bar",
         "x": [
          "Germany",
          "Germany",
          "Germany",
          "Germany",
          "Germany",
          "Germany",
          "Germany",
          "Germany",
          "Germany",
          "Germany",
          "Germany",
          "Germany",
          "Germany",
          "Germany",
          "Germany"
         ],
         "xaxis": "x",
         "y": [
          15,
          11,
          6,
          7,
          8,
          11,
          2,
          5,
          7,
          5,
          3,
          5,
          5,
          6,
          6
         ],
         "yaxis": "y"
        }
       ],
       "layout": {
        "barmode": "relative",
        "legend": {
         "title": {
          "text": "Country"
         },
         "tracegroupgap": 0
        },
        "template": {
         "data": {
          "bar": [
           {
            "error_x": {
             "color": "#2a3f5f"
            },
            "error_y": {
             "color": "#2a3f5f"
            },
            "marker": {
             "line": {
              "color": "#E5ECF6",
              "width": 0.5
             },
             "pattern": {
              "fillmode": "overlay",
              "size": 10,
              "solidity": 0.2
             }
            },
            "type": "bar"
           }
          ],
          "barpolar": [
           {
            "marker": {
             "line": {
              "color": "#E5ECF6",
              "width": 0.5
             },
             "pattern": {
              "fillmode": "overlay",
              "size": 10,
              "solidity": 0.2
             }
            },
            "type": "barpolar"
           }
          ],
          "carpet": [
           {
            "aaxis": {
             "endlinecolor": "#2a3f5f",
             "gridcolor": "white",
             "linecolor": "white",
             "minorgridcolor": "white",
             "startlinecolor": "#2a3f5f"
            },
            "baxis": {
             "endlinecolor": "#2a3f5f",
             "gridcolor": "white",
             "linecolor": "white",
             "minorgridcolor": "white",
             "startlinecolor": "#2a3f5f"
            },
            "type": "carpet"
           }
          ],
          "choropleth": [
           {
            "colorbar": {
             "outlinewidth": 0,
             "ticks": ""
            },
            "type": "choropleth"
           }
          ],
          "contour": [
           {
            "colorbar": {
             "outlinewidth": 0,
             "ticks": ""
            },
            "colorscale": [
             [
              0,
              "#0d0887"
             ],
             [
              0.1111111111111111,
              "#46039f"
             ],
             [
              0.2222222222222222,
              "#7201a8"
             ],
             [
              0.3333333333333333,
              "#9c179e"
             ],
             [
              0.4444444444444444,
              "#bd3786"
             ],
             [
              0.5555555555555556,
              "#d8576b"
             ],
             [
              0.6666666666666666,
              "#ed7953"
             ],
             [
              0.7777777777777778,
              "#fb9f3a"
             ],
             [
              0.8888888888888888,
              "#fdca26"
             ],
             [
              1,
              "#f0f921"
             ]
            ],
            "type": "contour"
           }
          ],
          "contourcarpet": [
           {
            "colorbar": {
             "outlinewidth": 0,
             "ticks": ""
            },
            "type": "contourcarpet"
           }
          ],
          "heatmap": [
           {
            "colorbar": {
             "outlinewidth": 0,
             "ticks": ""
            },
            "colorscale": [
             [
              0,
              "#0d0887"
             ],
             [
              0.1111111111111111,
              "#46039f"
             ],
             [
              0.2222222222222222,
              "#7201a8"
             ],
             [
              0.3333333333333333,
              "#9c179e"
             ],
             [
              0.4444444444444444,
              "#bd3786"
             ],
             [
              0.5555555555555556,
              "#d8576b"
             ],
             [
              0.6666666666666666,
              "#ed7953"
             ],
             [
              0.7777777777777778,
              "#fb9f3a"
             ],
             [
              0.8888888888888888,
              "#fdca26"
             ],
             [
              1,
              "#f0f921"
             ]
            ],
            "type": "heatmap"
           }
          ],
          "heatmapgl": [
           {
            "colorbar": {
             "outlinewidth": 0,
             "ticks": ""
            },
            "colorscale": [
             [
              0,
              "#0d0887"
             ],
             [
              0.1111111111111111,
              "#46039f"
             ],
             [
              0.2222222222222222,
              "#7201a8"
             ],
             [
              0.3333333333333333,
              "#9c179e"
             ],
             [
              0.4444444444444444,
              "#bd3786"
             ],
             [
              0.5555555555555556,
              "#d8576b"
             ],
             [
              0.6666666666666666,
              "#ed7953"
             ],
             [
              0.7777777777777778,
              "#fb9f3a"
             ],
             [
              0.8888888888888888,
              "#fdca26"
             ],
             [
              1,
              "#f0f921"
             ]
            ],
            "type": "heatmapgl"
           }
          ],
          "histogram": [
           {
            "marker": {
             "pattern": {
              "fillmode": "overlay",
              "size": 10,
              "solidity": 0.2
             }
            },
            "type": "histogram"
           }
          ],
          "histogram2d": [
           {
            "colorbar": {
             "outlinewidth": 0,
             "ticks": ""
            },
            "colorscale": [
             [
              0,
              "#0d0887"
             ],
             [
              0.1111111111111111,
              "#46039f"
             ],
             [
              0.2222222222222222,
              "#7201a8"
             ],
             [
              0.3333333333333333,
              "#9c179e"
             ],
             [
              0.4444444444444444,
              "#bd3786"
             ],
             [
              0.5555555555555556,
              "#d8576b"
             ],
             [
              0.6666666666666666,
              "#ed7953"
             ],
             [
              0.7777777777777778,
              "#fb9f3a"
             ],
             [
              0.8888888888888888,
              "#fdca26"
             ],
             [
              1,
              "#f0f921"
             ]
            ],
            "type": "histogram2d"
           }
          ],
          "histogram2dcontour": [
           {
            "colorbar": {
             "outlinewidth": 0,
             "ticks": ""
            },
            "colorscale": [
             [
              0,
              "#0d0887"
             ],
             [
              0.1111111111111111,
              "#46039f"
             ],
             [
              0.2222222222222222,
              "#7201a8"
             ],
             [
              0.3333333333333333,
              "#9c179e"
             ],
             [
              0.4444444444444444,
              "#bd3786"
             ],
             [
              0.5555555555555556,
              "#d8576b"
             ],
             [
              0.6666666666666666,
              "#ed7953"
             ],
             [
              0.7777777777777778,
              "#fb9f3a"
             ],
             [
              0.8888888888888888,
              "#fdca26"
             ],
             [
              1,
              "#f0f921"
             ]
            ],
            "type": "histogram2dcontour"
           }
          ],
          "mesh3d": [
           {
            "colorbar": {
             "outlinewidth": 0,
             "ticks": ""
            },
            "type": "mesh3d"
           }
          ],
          "parcoords": [
           {
            "line": {
             "colorbar": {
              "outlinewidth": 0,
              "ticks": ""
             }
            },
            "type": "parcoords"
           }
          ],
          "pie": [
           {
            "automargin": true,
            "type": "pie"
           }
          ],
          "scatter": [
           {
            "marker": {
             "colorbar": {
              "outlinewidth": 0,
              "ticks": ""
             }
            },
            "type": "scatter"
           }
          ],
          "scatter3d": [
           {
            "line": {
             "colorbar": {
              "outlinewidth": 0,
              "ticks": ""
             }
            },
            "marker": {
             "colorbar": {
              "outlinewidth": 0,
              "ticks": ""
             }
            },
            "type": "scatter3d"
           }
          ],
          "scattercarpet": [
           {
            "marker": {
             "colorbar": {
              "outlinewidth": 0,
              "ticks": ""
             }
            },
            "type": "scattercarpet"
           }
          ],
          "scattergeo": [
           {
            "marker": {
             "colorbar": {
              "outlinewidth": 0,
              "ticks": ""
             }
            },
            "type": "scattergeo"
           }
          ],
          "scattergl": [
           {
            "marker": {
             "colorbar": {
              "outlinewidth": 0,
              "ticks": ""
             }
            },
            "type": "scattergl"
           }
          ],
          "scattermapbox": [
           {
            "marker": {
             "colorbar": {
              "outlinewidth": 0,
              "ticks": ""
             }
            },
            "type": "scattermapbox"
           }
          ],
          "scatterpolar": [
           {
            "marker": {
             "colorbar": {
              "outlinewidth": 0,
              "ticks": ""
             }
            },
            "type": "scatterpolar"
           }
          ],
          "scatterpolargl": [
           {
            "marker": {
             "colorbar": {
              "outlinewidth": 0,
              "ticks": ""
             }
            },
            "type": "scatterpolargl"
           }
          ],
          "scatterternary": [
           {
            "marker": {
             "colorbar": {
              "outlinewidth": 0,
              "ticks": ""
             }
            },
            "type": "scatterternary"
           }
          ],
          "surface": [
           {
            "colorbar": {
             "outlinewidth": 0,
             "ticks": ""
            },
            "colorscale": [
             [
              0,
              "#0d0887"
             ],
             [
              0.1111111111111111,
              "#46039f"
             ],
             [
              0.2222222222222222,
              "#7201a8"
             ],
             [
              0.3333333333333333,
              "#9c179e"
             ],
             [
              0.4444444444444444,
              "#bd3786"
             ],
             [
              0.5555555555555556,
              "#d8576b"
             ],
             [
              0.6666666666666666,
              "#ed7953"
             ],
             [
              0.7777777777777778,
              "#fb9f3a"
             ],
             [
              0.8888888888888888,
              "#fdca26"
             ],
             [
              1,
              "#f0f921"
             ]
            ],
            "type": "surface"
           }
          ],
          "table": [
           {
            "cells": {
             "fill": {
              "color": "#EBF0F8"
             },
             "line": {
              "color": "white"
             }
            },
            "header": {
             "fill": {
              "color": "#C8D4E3"
             },
             "line": {
              "color": "white"
             }
            },
            "type": "table"
           }
          ]
         },
         "layout": {
          "annotationdefaults": {
           "arrowcolor": "#2a3f5f",
           "arrowhead": 0,
           "arrowwidth": 1
          },
          "autotypenumbers": "strict",
          "coloraxis": {
           "colorbar": {
            "outlinewidth": 0,
            "ticks": ""
           }
          },
          "colorscale": {
           "diverging": [
            [
             0,
             "#8e0152"
            ],
            [
             0.1,
             "#c51b7d"
            ],
            [
             0.2,
             "#de77ae"
            ],
            [
             0.3,
             "#f1b6da"
            ],
            [
             0.4,
             "#fde0ef"
            ],
            [
             0.5,
             "#f7f7f7"
            ],
            [
             0.6,
             "#e6f5d0"
            ],
            [
             0.7,
             "#b8e186"
            ],
            [
             0.8,
             "#7fbc41"
            ],
            [
             0.9,
             "#4d9221"
            ],
            [
             1,
             "#276419"
            ]
           ],
           "sequential": [
            [
             0,
             "#0d0887"
            ],
            [
             0.1111111111111111,
             "#46039f"
            ],
            [
             0.2222222222222222,
             "#7201a8"
            ],
            [
             0.3333333333333333,
             "#9c179e"
            ],
            [
             0.4444444444444444,
             "#bd3786"
            ],
            [
             0.5555555555555556,
             "#d8576b"
            ],
            [
             0.6666666666666666,
             "#ed7953"
            ],
            [
             0.7777777777777778,
             "#fb9f3a"
            ],
            [
             0.8888888888888888,
             "#fdca26"
            ],
            [
             1,
             "#f0f921"
            ]
           ],
           "sequentialminus": [
            [
             0,
             "#0d0887"
            ],
            [
             0.1111111111111111,
             "#46039f"
            ],
            [
             0.2222222222222222,
             "#7201a8"
            ],
            [
             0.3333333333333333,
             "#9c179e"
            ],
            [
             0.4444444444444444,
             "#bd3786"
            ],
            [
             0.5555555555555556,
             "#d8576b"
            ],
            [
             0.6666666666666666,
             "#ed7953"
            ],
            [
             0.7777777777777778,
             "#fb9f3a"
            ],
            [
             0.8888888888888888,
             "#fdca26"
            ],
            [
             1,
             "#f0f921"
            ]
           ]
          },
          "colorway": [
           "#636efa",
           "#EF553B",
           "#00cc96",
           "#ab63fa",
           "#FFA15A",
           "#19d3f3",
           "#FF6692",
           "#B6E880",
           "#FF97FF",
           "#FECB52"
          ],
          "font": {
           "color": "#2a3f5f"
          },
          "geo": {
           "bgcolor": "white",
           "lakecolor": "white",
           "landcolor": "#E5ECF6",
           "showlakes": true,
           "showland": true,
           "subunitcolor": "white"
          },
          "hoverlabel": {
           "align": "left"
          },
          "hovermode": "closest",
          "mapbox": {
           "style": "light"
          },
          "paper_bgcolor": "white",
          "plot_bgcolor": "#E5ECF6",
          "polar": {
           "angularaxis": {
            "gridcolor": "white",
            "linecolor": "white",
            "ticks": ""
           },
           "bgcolor": "#E5ECF6",
           "radialaxis": {
            "gridcolor": "white",
            "linecolor": "white",
            "ticks": ""
           }
          },
          "scene": {
           "xaxis": {
            "backgroundcolor": "#E5ECF6",
            "gridcolor": "white",
            "gridwidth": 2,
            "linecolor": "white",
            "showbackground": true,
            "ticks": "",
            "zerolinecolor": "white"
           },
           "yaxis": {
            "backgroundcolor": "#E5ECF6",
            "gridcolor": "white",
            "gridwidth": 2,
            "linecolor": "white",
            "showbackground": true,
            "ticks": "",
            "zerolinecolor": "white"
           },
           "zaxis": {
            "backgroundcolor": "#E5ECF6",
            "gridcolor": "white",
            "gridwidth": 2,
            "linecolor": "white",
            "showbackground": true,
            "ticks": "",
            "zerolinecolor": "white"
           }
          },
          "shapedefaults": {
           "line": {
            "color": "#2a3f5f"
           }
          },
          "ternary": {
           "aaxis": {
            "gridcolor": "white",
            "linecolor": "white",
            "ticks": ""
           },
           "baxis": {
            "gridcolor": "white",
            "linecolor": "white",
            "ticks": ""
           },
           "bgcolor": "#E5ECF6",
           "caxis": {
            "gridcolor": "white",
            "linecolor": "white",
            "ticks": ""
           }
          },
          "title": {
           "x": 0.05
          },
          "xaxis": {
           "automargin": true,
           "gridcolor": "white",
           "linecolor": "white",
           "ticks": "",
           "title": {
            "standoff": 15
           },
           "zerolinecolor": "white",
           "zerolinewidth": 2
          },
          "yaxis": {
           "automargin": true,
           "gridcolor": "white",
           "linecolor": "white",
           "ticks": "",
           "title": {
            "standoff": 15
           },
           "zerolinecolor": "white",
           "zerolinewidth": 2
          }
         }
        },
        "title": {
         "text": "Highest Sales Amount per Country"
        },
        "xaxis": {
         "anchor": "y",
         "categoryarray": [
          "China",
          "USA",
          "Brazil",
          "Germany"
         ],
         "categoryorder": "array",
         "domain": [
          0,
          1
         ],
         "title": {
          "text": "Country"
         }
        },
        "yaxis": {
         "anchor": "x",
         "domain": [
          0,
          1
         ],
         "title": {
          "text": "Sales Amount"
         }
        }
       }
      }
     },
     "metadata": {},
     "output_type": "display_data"
    }
   ],
   "source": [
    "import plotly.express as px\n",
    "\n",
    "# Assuming your DataFrame is named 'df' and has 'Sales(items)' and 'Country' columns\n",
    "# Make sure 'Sales(items)' is already converted to numeric type\n",
    "df['Sales_items'] = pd.to_numeric(df['Sales_items'], errors='coerce')\n",
    "\n",
    "# Drop rows with missing values in 'Sales(items)' or 'Country'\n",
    "df = df.dropna(subset=['Sales_items', 'Country'])\n",
    "\n",
    "# Create a bar chart\n",
    "fig = px.bar(df, x='Country', y='Sales_items', color='Country',\n",
    "             labels={'Sales_items': 'Sales Amount', 'Country': 'Country'},\n",
    "             title='Highest Sales Amount per Country')\n",
    "\n",
    "fig.show()\n"
   ]
  }
 ],
 "metadata": {
  "kernelspec": {
   "display_name": "base",
   "language": "python",
   "name": "python3"
  },
  "language_info": {
   "codemirror_mode": {
    "name": "ipython",
    "version": 3
   },
   "file_extension": ".py",
   "mimetype": "text/x-python",
   "name": "python",
   "nbconvert_exporter": "python",
   "pygments_lexer": "ipython3",
   "version": "3.9.12"
  }
 },
 "nbformat": 4,
 "nbformat_minor": 2
}
